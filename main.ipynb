{
  "cells": [
    {
      "cell_type": "markdown",
      "source": [
        "# Cornell Course Classification and South Asian Representation\n",
        "\n",
        "Authored by Katie Huntley (kah294)\n",
        "\n",
        "Decemeber 16, 2024\n",
        "\n",
        "\n",
        "\n",
        "This notebook presents all code used in data collection and analysis.\n",
        "For full commentary and data interpretation please refer to the report linked [here](https://drive.google.com/file/d/1XR8viWzqrRvNW9Dnb-7IqarWUTinn0Zm/view?usp=sharing)."
      ],
      "metadata": {
        "id": "8UiEExhdDngr"
      }
    },
    {
      "cell_type": "markdown",
      "source": [
        "# Imports"
      ],
      "metadata": {
        "id": "8xlIrjgJ-3fa"
      }
    },
    {
      "cell_type": "code",
      "execution_count": null,
      "metadata": {
        "id": "fXT_Amt8N3mj"
      },
      "outputs": [],
      "source": [
        "import requests\n",
        "import pandas as pd\n",
        "from sklearn.model_selection import train_test_split\n",
        "import torch\n",
        "import numpy as np\n",
        "from typing import Dict\n",
        "from sentence_transformers import SentenceTransformer\n",
        "from collections import Counter\n",
        "import matplotlib.pyplot as plt\n",
        "from scipy.stats import linregress\n",
        "from transformers import AutoTokenizer, AutoModelForSequenceClassification, AutoModelForSeq2SeqLM, AutoTokenizer, AutoModel, pipeline\n",
        "from sklearn.metrics import cohen_kappa_score\n",
        "from sklearn.metrics import f1_score, precision_score, recall_score\n",
        "import os"
      ]
    },
    {
      "cell_type": "markdown",
      "source": [
        "# Dataset Collection"
      ],
      "metadata": {
        "id": "OTyZu-EV-6gr"
      }
    },
    {
      "cell_type": "code",
      "execution_count": null,
      "metadata": {
        "id": "SKvDzJxsN3mw"
      },
      "outputs": [],
      "source": [
        "API_BASE_URL = \"https://classes.cornell.edu/api/2.0\"\n",
        "HUMANITIES_DEPTS = ['AAS','AIIS','AMST','ANTHR','ARAB','ARKEO','ART','ARTH','ASIAN','ASL','ASRC','CLASS','COML','COMM','ENGL','FGSS','GERST','HIST','JWST','LATA','LING','MEDVL','MUSIC','PHIL','RELST','ROMS','SOC','SPAN','STS','VISST','WRIT']\n",
        "SCHOOLYEARS = {'FA21': '2021/22', 'SP22': '2021/22', 'FA22': '2022/23', 'SP23':'2022/23', 'FA23':'2023/24', 'SP24':'2023/24', 'FA24':'2024/25', 'SP25':'2024/25'}"
      ]
    },
    {
      "cell_type": "code",
      "execution_count": null,
      "metadata": {
        "id": "5pBxcg7SN3my"
      },
      "outputs": [],
      "source": [
        "def clean_df(df):\n",
        "  \"\"\"\n",
        "  This function takes the following steps to clean the input courses dataframe:\n",
        "    - Removes \"FWS: \" from course titles\n",
        "    - Removes classes with little to no description\n",
        "    - Removes duplicate classes from crosslisting\n",
        "    - Removes non-informative classes involving honors/thesis work, independent study\n",
        "\n",
        "  Output is the modified dataframe.\n",
        "  \"\"\"\n",
        "\n",
        "  # Remove \"FWS: \" from course titles\n",
        "  df['title'] = df['title'].str.replace(r'^FWS: ', '', regex=True)\n",
        "  df['title'] = df['title'].str.replace(r'^FWS:', '', regex=True)\n",
        "\n",
        "  # Remove classes with little to no description\n",
        "  df = df[df['description'].str.len() >= 50]\n",
        "  print(\"Samples after removing short descriptions:\", df.shape[0])\n",
        "\n",
        "  # Remove duplicate classes from crosslisting\n",
        "  df = df.drop_duplicates(subset=['title', 'semester'])\n",
        "  print(\"Samples after removing duplicated, crosslisted courses\", df.shape[0])\n",
        "\n",
        "  # Remove non-informative classes involving honors/thesis work, independent study\n",
        "  df = df[~df['title'].str.contains('Independent|Honors|Thesis', case=False, na=False)]\n",
        "  print(\"Samples after removing honors/thesis work, independent study courses\", df.shape[0])\n",
        "\n",
        "  return df"
      ]
    },
    {
      "cell_type": "code",
      "execution_count": null,
      "metadata": {
        "id": "hNbmPZZPN3m0"
      },
      "outputs": [],
      "source": [
        "def assemble_dataset(semesters):\n",
        "  \"\"\"\n",
        "  This function takes a list of semesters as input to fetch data from the Cornell University course roster API.\n",
        "  The output is a pandas dataframe with the following columns: title, description, schoolyear, semester.\n",
        "  Each entry in the resulting dataframe represents one course.\n",
        "  \"\"\"\n",
        "\n",
        "  titles = []\n",
        "  descriptions = []\n",
        "  schoolyears = []\n",
        "  df_semesters = []\n",
        "\n",
        "  for semester in semesters:\n",
        "      for dept in HUMANITIES_DEPTS:\n",
        "          response = requests.get(\n",
        "              f\"{API_BASE_URL}/search/classes.json\",\n",
        "              params={\"roster\": semester, \"subject\": dept}\n",
        "          )\n",
        "          json = response.json()\n",
        "          if json['status'] == 'success':\n",
        "            courses = json['data']['classes']\n",
        "            for course in courses:\n",
        "                df_semesters += [semester]\n",
        "                titles += [course['titleLong']]\n",
        "                descriptions += [course['description']]\n",
        "                schoolyears += [SCHOOLYEARS[semester]]\n",
        "\n",
        "  df = pd.DataFrame()\n",
        "  df['title'] = titles\n",
        "  df['description'] = descriptions\n",
        "  df['schoolyear'] = schoolyears\n",
        "  df['semester'] = df_semesters\n",
        "  print(f\"Samples before any processing: {df.shape[0]}\")\n",
        "  df = clean_df(df)\n",
        "  df['content'] = df['title'] + '\\n' + df['description']\n",
        "  return df"
      ]
    },
    {
      "cell_type": "code",
      "execution_count": null,
      "metadata": {
        "colab": {
          "base_uri": "https://localhost:8080/"
        },
        "id": "7US-t9Z5N3nA",
        "outputId": "88e17372-5b58-475f-9156-bb7cd9a77c91"
      },
      "outputs": [
        {
          "output_type": "stream",
          "name": "stdout",
          "text": [
            "Samples before any processing: 8239\n",
            "Samples after removing short descriptions: 8001\n",
            "Samples after removing duplicated, crosslisted courses 4804\n",
            "Samples after removing honors/thesis work, independent study courses 4451\n"
          ]
        }
      ],
      "source": [
        "SEMESTERS = ['FA21', 'SP22', 'FA22', 'SP23', 'FA23', 'SP24', 'FA24', 'SP25']\n",
        "courses_df = assemble_dataset(SEMESTERS)"
      ]
    },
    {
      "cell_type": "markdown",
      "source": [
        "# Zero-Shot Predictions"
      ],
      "metadata": {
        "id": "aPD4s4zS-_ZD"
      }
    },
    {
      "cell_type": "code",
      "source": [
        "def predict_on_labels(df, model, labels, batch_size=16):\n",
        "  \"\"\"\n",
        "  This function uses the given model to make predictions on each entry in the provided courses dataframe.\n",
        "  Each course is assigned one of the labels in the provided labels list.\n",
        "\n",
        "  The output is a new dataframe with the following columns: content, binary label, predicted label, schoolyear\n",
        "  The binary label consists of 1s and 0s where 1s indicate that the course was assigned one of the first n-1 labels in the provided labels list.\n",
        "  \"\"\"\n",
        "\n",
        "  pos_labels = labels[:len(labels)-1]\n",
        "  texts = df['content'].tolist()\n",
        "\n",
        "  # Batch size for processing\n",
        "  num_batches = int(np.ceil(len(texts) / batch_size))  # Calculate number of batches\n",
        "\n",
        "  # Store results\n",
        "  predicted_labels = []\n",
        "\n",
        "  # Process texts in batches\n",
        "  for i in range(num_batches):\n",
        "      batch_texts = texts[i * batch_size : (i + 1) * batch_size]  # Create batch slice\n",
        "      results = model(batch_texts, labels)  # Process batch\n",
        "\n",
        "      # Extract predicted labels for each text in the batch\n",
        "      for result in results:\n",
        "          predicted_labels.append(result['labels'][0])\n",
        "\n",
        "  return_df = pd.DataFrame()\n",
        "  return_df['content'] = df['content']\n",
        "\n",
        "  binary_labels = [1 if label in pos_labels else 0 for label in predicted_labels]\n",
        "  return_df['binary label'] = binary_labels\n",
        "  return_df['predicted label'] = predicted_labels\n",
        "\n",
        "  return_df['schoolyear'] = df['schoolyear']\n",
        "  return return_df"
      ],
      "metadata": {
        "id": "iJPiprYDkeey"
      },
      "execution_count": null,
      "outputs": []
    },
    {
      "cell_type": "code",
      "source": [
        "def plot_labels(df, plot_title):\n",
        "  \"\"\"\n",
        "  This function plots predicted South Asian courses per school year as a bar chart.\n",
        "  The plot is overlaid with a line of best fit.\n",
        "\n",
        "  The input dataframe must have the following columns: binary label, schoolyear.\n",
        "  \"\"\"\n",
        "\n",
        "  # Group by school year and predicted label, counting occurrences\n",
        "  count_pos_labels_per_year = df[df['binary label'] == 1].groupby('schoolyear').size()\n",
        "  print((count_pos_labels_per_year))\n",
        "\n",
        "  # Plotting bar chart\n",
        "  plt.figure(figsize=(10, 6))\n",
        "  plt.bar(count_pos_labels_per_year.index, count_pos_labels_per_year.values, label='South Asian Counts', color='lightblue')\n",
        "\n",
        "  # Adding titles and labels\n",
        "  plt.title(plot_title)\n",
        "  plt.xlabel('School Year')\n",
        "  plt.ylabel('South Asian Course Count')\n",
        "  plt.xticks(rotation=0)  # Rotate x-axis labels to make them readable\n",
        "\n",
        "  # Line of best fit\n",
        "  x = np.arange(len(count_pos_labels_per_year))  # X values (school years)\n",
        "  y = count_pos_labels_per_year.values  # Y values (counts)\n",
        "  slope, intercept, r_value, p_value, std_err = linregress(x, y)  # Perform linear regression\n",
        "\n",
        "  # Plotting the line of best fit\n",
        "  plt.plot(count_pos_labels_per_year.index, slope * x + intercept, color='red', label='Line of Best Fit', linestyle='--')\n",
        "\n",
        "  # Display the legend\n",
        "  plt.legend()\n",
        "\n",
        "  # Save the plot\n",
        "  plt.savefig(f\"{plot_title}.png\")\n",
        "\n",
        "  # Show the plot\n",
        "  plt.show()"
      ],
      "metadata": {
        "id": "49doob0kkxfK"
      },
      "execution_count": null,
      "outputs": []
    },
    {
      "cell_type": "code",
      "source": [
        "def sample_labels(df):\n",
        "  \"\"\"\n",
        "  This function picks 5 positively labeled and 5 negatively labeled courses at random and prints the course title and description.\n",
        "\n",
        "  The input dataframe must have the following columns: content, binary label.\n",
        "  \"\"\"\n",
        "\n",
        "  sample_pos_courses = df[df['binary label'] == 1].sample(n=5)\n",
        "  print(f\"Random Positive Courses:\")\n",
        "  for sample in sample_pos_courses['content']:\n",
        "      print(sample)\n",
        "      print()\n",
        "\n",
        "  sample_neg_courses = df[df['binary label'] == 0].sample(n=5)\n",
        "  print(f\"Random Negative Courses:\")\n",
        "  for sample in sample_neg_courses['content']:\n",
        "      print(sample)\n",
        "      print()"
      ],
      "metadata": {
        "id": "_vdGUAsqlzZp"
      },
      "execution_count": null,
      "outputs": []
    },
    {
      "cell_type": "code",
      "source": [
        "model = pipeline(\"zero-shot-classification\", model=\"facebook/bart-large-mnli\")\n",
        "save_path = \"/content/all_predictions.csv\""
      ],
      "metadata": {
        "collapsed": true,
        "id": "Dl8JRVdn9Quy",
        "colab": {
          "base_uri": "https://localhost:8080/",
          "height": 333,
          "referenced_widgets": [
            "61e4351e6de9493daffbc3eb40db65fd",
            "6a84959456c54351a9f02bd36adc5b62",
            "fdfc266784ad4c0288e40ae4550e848a",
            "f7e10c82f3f942a38741ebb540224d7a",
            "4bf2961b539f43aca4695ed014571218",
            "f35cb970e2ef448e894f76b747dccde7",
            "ff58d5b8472e46f0b02096e07e90b837",
            "365213cb6cd84ae4a208e0e4f782f645",
            "f7ad3f0d79a948feb7c84e82b4a329c0",
            "7ed32c32c2a8459c9241606cb6808085",
            "a8a8ff07cf7c436fadf871a1335e5096",
            "e537940aedb34d2889eb28831523beaf",
            "e83e2f5810e4492ab07cab96c24c7e8c",
            "1a32b485f19145b79118a18f9a77f903",
            "f45e734f828640ff8ef072bcf51eef00",
            "f94850dcbfba44e1b543bcaa3477a69d",
            "6e0ed001d4ed43adaf7f5dd30821fa4d",
            "e0f7daf87d934221af636d80bad1a8e5",
            "63dada85a4b5449bb200081e18fa5c0b",
            "4220f12604204944940b15cede0182f4",
            "1aad0e32164e41acbd515851b0c6fb97",
            "09498a75c20a4a70aeb50918d2ff827a",
            "581e6434387e4242b1290e34e4fbbdb8",
            "c4ec754bde104af592177dbb7ff2399d",
            "29a71b9a34964f599d76367d5e7ce677",
            "e1374cc8f66b4076a64c7fc0b2b6f352",
            "860e60851cd941c5ac9b20a1549f182f",
            "0e55632f73764cefb3bf2d7878db172f",
            "2353b0c3e59e4a19a67f8544a8d0554f",
            "280fc8d6bd66463dacfd62052aedd4ec",
            "5cea1ae3cc0c48188d7c16733868f113",
            "0866a324a32845bbbbd07848a8f7cfbc",
            "15f694d9a4064f488697976945425a19",
            "19f54a8dfa1b45e1972a4fd6dae5515a",
            "3e0eb89a1a2241fba049a564dc25d96a",
            "3680a727811740d28b919d83cbf2b500",
            "c29acf513ade407d98d6e15646cd1825",
            "cce9103cb2af4eeaa14016a34f0db6df",
            "f40c1be69ff8476997dd99a72bce7f9c",
            "6eab135ae82643769fdcd8e755f91253",
            "019502836d424c91bc7df1bed477fe7c",
            "a500117dac044eccbe741205c4a07ca3",
            "d02f463a6be8417382ce990030f954d9",
            "adcc620011fd44d0ab8fcc0f17370829",
            "37ed5d57cc97414fb140882e4df56849",
            "9c80249352054d9bbae684ad2083ba1e",
            "70a2ee60894045a8a2165fa83cc25589",
            "dacf5c1562f54cca9c0e71fda12d3aa8",
            "d8950ae6600949ce88cab1c4f7169c6e",
            "83e238616ead43069f6bed2a3c58b0ec",
            "b70b5b521b284ee8a6dd397a49187d08",
            "ae1faaa271f84f7bae1efb7be8871bf1",
            "0ae07eab269040e2af8f8e4ba584c644",
            "63e10ef04dfc42ec81e54dd7f25fbf2f",
            "f7885a253a9c4e2c9904c9a38ba7d526",
            "bd04e493fff54662a310ad2b16275d6e",
            "dafb2248583149f4ae71d6ae763e1cbd",
            "c2966daeb8ce4cd28a1b78f1c733d611",
            "c99c6a1536ab495bbf25b114af365b97",
            "276809789cb546bfb4c342bbb9053ba4",
            "67e7f7f34be0462790f446dfa263dd1c",
            "abe93dd0b4244e8ea538c6ee3e205b18",
            "577004f03ade4a1186a3520df394b786",
            "0070fd08d18e4ea5a3637448d1fe1b08",
            "230a87306840459ebd39264d5dc1f1b9",
            "488d8ec4e82f4bfabfd49344333c8693"
          ]
        },
        "outputId": "ba03e66b-3935-486e-fe90-254ee87e005d"
      },
      "execution_count": null,
      "outputs": [
        {
          "output_type": "stream",
          "name": "stderr",
          "text": [
            "/usr/local/lib/python3.10/dist-packages/huggingface_hub/utils/_auth.py:94: UserWarning: \n",
            "The secret `HF_TOKEN` does not exist in your Colab secrets.\n",
            "To authenticate with the Hugging Face Hub, create a token in your settings tab (https://huggingface.co/settings/tokens), set it as secret in your Google Colab and restart your session.\n",
            "You will be able to reuse this secret in all of your notebooks.\n",
            "Please note that authentication is recommended but still optional to access public models or datasets.\n",
            "  warnings.warn(\n"
          ]
        },
        {
          "output_type": "display_data",
          "data": {
            "text/plain": [
              "config.json:   0%|          | 0.00/1.15k [00:00<?, ?B/s]"
            ],
            "application/vnd.jupyter.widget-view+json": {
              "version_major": 2,
              "version_minor": 0,
              "model_id": "61e4351e6de9493daffbc3eb40db65fd"
            }
          },
          "metadata": {}
        },
        {
          "output_type": "display_data",
          "data": {
            "text/plain": [
              "model.safetensors:   0%|          | 0.00/1.63G [00:00<?, ?B/s]"
            ],
            "application/vnd.jupyter.widget-view+json": {
              "version_major": 2,
              "version_minor": 0,
              "model_id": "e537940aedb34d2889eb28831523beaf"
            }
          },
          "metadata": {}
        },
        {
          "output_type": "display_data",
          "data": {
            "text/plain": [
              "tokenizer_config.json:   0%|          | 0.00/26.0 [00:00<?, ?B/s]"
            ],
            "application/vnd.jupyter.widget-view+json": {
              "version_major": 2,
              "version_minor": 0,
              "model_id": "581e6434387e4242b1290e34e4fbbdb8"
            }
          },
          "metadata": {}
        },
        {
          "output_type": "display_data",
          "data": {
            "text/plain": [
              "vocab.json:   0%|          | 0.00/899k [00:00<?, ?B/s]"
            ],
            "application/vnd.jupyter.widget-view+json": {
              "version_major": 2,
              "version_minor": 0,
              "model_id": "19f54a8dfa1b45e1972a4fd6dae5515a"
            }
          },
          "metadata": {}
        },
        {
          "output_type": "display_data",
          "data": {
            "text/plain": [
              "merges.txt:   0%|          | 0.00/456k [00:00<?, ?B/s]"
            ],
            "application/vnd.jupyter.widget-view+json": {
              "version_major": 2,
              "version_minor": 0,
              "model_id": "37ed5d57cc97414fb140882e4df56849"
            }
          },
          "metadata": {}
        },
        {
          "output_type": "display_data",
          "data": {
            "text/plain": [
              "tokenizer.json:   0%|          | 0.00/1.36M [00:00<?, ?B/s]"
            ],
            "application/vnd.jupyter.widget-view+json": {
              "version_major": 2,
              "version_minor": 0,
              "model_id": "bd04e493fff54662a310ad2b16275d6e"
            }
          },
          "metadata": {}
        }
      ]
    },
    {
      "cell_type": "code",
      "source": [
        "if os.path.exists(save_path):\n",
        "  print(f\"Loading existing data at {save_path}\")\n",
        "  all_predictions_df = pd.read_csv(save_path)\n",
        "  print(all_predictions_df.head())\n",
        "else:\n",
        "  print(f\"No existing predictions found at {save_path}\")\n",
        "  print(\"Creating new dataframe from scratch\")\n",
        "  all_predictions_df = pd.DataFrame()\n",
        "  all_predictions_df['content'] = courses_df['content']\n",
        "  all_predictions_df['schoolyear'] = courses_df['schoolyear']"
      ],
      "metadata": {
        "id": "GEqU71PqL6dP",
        "colab": {
          "base_uri": "https://localhost:8080/"
        },
        "outputId": "f39d171b-42f0-4d53-b462-73d6c3bb1da2"
      },
      "execution_count": null,
      "outputs": [
        {
          "output_type": "stream",
          "name": "stdout",
          "text": [
            "Loading existing data at /content/all_predictions.csv\n",
            "                                             content schoolyear  \\\n",
            "0  Death in the City: Funerary Architecture in Mu...    2021/22   \n",
            "1  Mahayana Buddhism\\nThis course will explore th...    2021/22   \n",
            "2  The Great Epic of India\\nThe great Sanskrit ep...    2022/23   \n",
            "3  Mughal India and the Early Modern World, c. 15...    2022/23   \n",
            "4  Scandal, Corruption, and the Making of the Bri...    2022/23   \n",
            "\n",
            "   trial 1 label  trial 2 label  trial 3 label  trial 4 label  trial 5 label  \\\n",
            "0              1              1              1              1              1   \n",
            "1              1              1              1              1              1   \n",
            "2              1              1              1              1              1   \n",
            "3              1              1              1              1              1   \n",
            "4              1              1              1              1              1   \n",
            "\n",
            "   gold standard  \n",
            "0              1  \n",
            "1              1  \n",
            "2              1  \n",
            "3              1  \n",
            "4              1  \n"
          ]
        }
      ]
    },
    {
      "cell_type": "code",
      "source": [
        "def make_trial_df(labels, trial_number, comprehensive_df):\n",
        "  if f'trial {trial_number} label' in comprehensive_df.columns:\n",
        "    trial_df = pd.DataFrame()\n",
        "    trial_df['content'] = comprehensive_df['content']\n",
        "    trial_df['binary label'] = comprehensive_df[f'trial {trial_number} label']\n",
        "    trial_df['schoolyear'] = comprehensive_df['schoolyear']\n",
        "  else:\n",
        "    print(f\"No existing predictions found for trial {trial_number}\")\n",
        "    print(\"Beginning to predict with model\")\n",
        "    trial_df = predict_on_labels(courses_df, model, trial_one_labels)\n",
        "    comprehensive_df[f'trial {trial_number} label'] = trial_df['binary label']\n",
        "    print(f\"Saving trial {trial_number} predictions to {save_path}\")\n",
        "    comprehensive_df.to_csv(save_path, index=False)\n",
        "\n",
        "  return trial_df"
      ],
      "metadata": {
        "id": "1it4zdCW6HWB"
      },
      "execution_count": null,
      "outputs": []
    },
    {
      "cell_type": "code",
      "source": [
        "trial_one_labels = [\"South Asian\", \"not South Asian\"]\n",
        "trial_one_df = make_trial_df(trial_one_labels, 1, all_predictions_df)"
      ],
      "metadata": {
        "id": "8EIagyNi5dZH",
        "collapsed": true
      },
      "execution_count": null,
      "outputs": []
    },
    {
      "cell_type": "code",
      "source": [
        "plot_labels(trial_one_df, \"BART-large-mnli with \\\"South Asian\\\" and \\\"not South Asian\\\" Labels\")"
      ],
      "metadata": {
        "id": "uQ2s7Ahe9PW3",
        "colab": {
          "base_uri": "https://localhost:8080/",
          "height": 668
        },
        "outputId": "e7170594-6e76-4c73-de3e-2b632086fa36"
      },
      "execution_count": null,
      "outputs": [
        {
          "output_type": "stream",
          "name": "stdout",
          "text": [
            "schoolyear\n",
            "2021/22    50\n",
            "2022/23    52\n",
            "2023/24    39\n",
            "2024/25    42\n",
            "dtype: int64\n"
          ]
        },
        {
          "output_type": "display_data",
          "data": {
            "text/plain": [
              "<Figure size 1000x600 with 1 Axes>"
            ],
            "image/png": "[encoded data removed]"
          },
          "metadata": {}
        }
      ]
    },
    {
      "cell_type": "code",
      "source": [
        "sample_labels(trial_one_df)"
      ],
      "metadata": {
        "id": "eggQfPHc9XYf",
        "colab": {
          "base_uri": "https://localhost:8080/"
        },
        "outputId": "86a81426-a054-4f58-9182-6278536cf532"
      },
      "execution_count": null,
      "outputs": [
        {
          "output_type": "stream",
          "name": "stdout",
          "text": [
            "Random Positive Courses:\n",
            "South Asia: Readings in Special Problems\n",
            "Independent reading course in topics not covered in regularly scheduled courses. Students select a topic in consultation with the faculty member who has agreed to supervise the course work.\n",
            "\n",
            "Economic Sociology of Social Inequalities\n",
            "This seminar explores the causes and consequences of social inequalities embedded in economic institutions and markets. From hierarchies to markets, stratification is embedded in networks and norms that enable and guide economic action. As such, the mechanisms of social inequalities involve processes that are hidden in everyday social interactions. The economic sociology of social inequalities encompasses systems of class power, ethnic and racial stratification, and gender inequalities. We will use a case study method to explore and dissect the economic sources of social inequalities in everyday life.\n",
            "\n",
            "South Asia: Readings in Special Problems\n",
            "Independent reading course in topics not covered in regularly scheduled courses. Students select a topic in consultation with the faculty member who has agreed to supervise the course work.\n",
            "\n",
            "Fictions of Dictatorship\n",
            "Fictions of dictatorship, as termed by scholar Lucy Burns, denote both the narratives and spectacles produced by authoritarian governments and the performances, events, and cultural objects that work against these states of exception. This course will critically examine histories of dictatorships, through both documentary &amp; creative forms (i.e. novels, memoirs, and performance) and with a geographic focus on Asia and Latin America, in order to understand authoritarian returns in our present historical moment.\n",
            "\n",
            "Semiotics\n",
            "What allows us to make assumptions about people based on the way they speak or dress? How can we understand the deeper meaning of a fairy tale or an episode of The Simpsons? What does macaroni and cheese mean, and why is it not on the menu at most upscale Manhattan eateries? This seminar introduces semiotics, the study of signs and the meaning-bearing sign systems they form; sign systems that include not only human language but also literature, painting, sculpture, film, music, dance and also such aspects of popular culture as advertising, fashion, food, and television, to name just a few. The diversity of semiotic systems provides many possibilities for thinking and writing critically about the world we live in.\n",
            "\n",
            "Random Negative Courses:\n",
            "Topics in Social and Political Philosophy\n",
            "Advanced discussion of a topic in social and political philosophy. Topic for Fall 2023: Race, Gender, and Technology. Topic for Spring 2024: Authority, Coercion, and the Rule of Law.\n",
            "\n",
            "Augustine\n",
            "Topic: Augustine's philosophy of mind in De Trinitate\n",
            "\n",
            "Choral Musicianship\n",
            "Co-requisite for new members of Cornell choirs, based on audition. Recommended for choral musicians at all levels. Foundational and advanced approaches to choral sight-singing, aural skills, diction, score reading, and vocal topics.\n",
            " \n",
            "\n",
            "Constitutional Politics\n",
            "This course investigates the United States Supreme Court and its role in politics and government. It traces the development of constitutional doctrine, the growth of the Court's institutional power, and the Court's interaction with Congress, the president, and society. Discussed are major constitutional law decisions, their political contexts, and the social and behavioral factors that affect judges, justices, and federal court jurisprudence.\n",
            "\n",
            "Contemporary American Theatre on Stage and Screen\n",
            "How has theatre shaped our notion of America and Americans in the second half of the 20th century and beyond?  What role has politics played in the theatre?  How has performance been used to examine concepts of identity, community, and nationality?  And how and why have certain plays in this era been translated to the screen? In this course we will examine major trends in the American theatre from 1960 to the present.  We will focus on theatre that responds directly to moments of social turmoil, including: the Vietnam and Iraq Wars, the Civil Rights and Black Lives Matter Movements, Women's and Gender Equality Movements, and the AIDS epidemic. We will also explore the tensions between Broadway and alternative theatre production.\n",
            "\n"
          ]
        }
      ]
    },
    {
      "cell_type": "code",
      "source": [
        "trial_two_labels = [\"South Asian topics\", \"miscellaneous topics\"]\n",
        "trial_two_df = make_trial_df(trial_two_labels, 2, all_predictions_df)"
      ],
      "metadata": {
        "id": "dT0Kx5LL9g7a"
      },
      "execution_count": null,
      "outputs": []
    },
    {
      "cell_type": "code",
      "source": [
        "plot_labels(trial_two_df, \"BART-large-mnli with \\\"South Asian topics\\\" and \\\"miscellaneous topics\\\" Labels\")"
      ],
      "metadata": {
        "id": "US4cspTG9war",
        "colab": {
          "base_uri": "https://localhost:8080/",
          "height": 668
        },
        "outputId": "97216f31-9dd9-4e23-ea59-3769d0b1dcf3"
      },
      "execution_count": null,
      "outputs": [
        {
          "output_type": "stream",
          "name": "stdout",
          "text": [
            "schoolyear\n",
            "2021/22    78\n",
            "2022/23    93\n",
            "2023/24    68\n",
            "2024/25    80\n",
            "dtype: int64\n"
          ]
        },
        {
          "output_type": "display_data",
          "data": {
            "text/plain": [
              "<Figure size 1000x600 with 1 Axes>"
            ],
            "image/png": "[encoded data removed]"
          },
          "metadata": {}
        }
      ]
    },
    {
      "cell_type": "code",
      "source": [
        "sample_labels(trial_two_df)"
      ],
      "metadata": {
        "id": "UZNVyJsG94_F",
        "colab": {
          "base_uri": "https://localhost:8080/"
        },
        "outputId": "c339cdd6-d3ce-4ede-f72f-01e1a017b504"
      },
      "execution_count": null,
      "outputs": [
        {
          "output_type": "stream",
          "name": "stdout",
          "text": [
            "Random Positive Courses:\n",
            "Introduction to Indian Philosophy\n",
            "This course will survey the rich and sophisticated tradition of Indian philosophical thought from its beginnings in the speculations of Upanishads, surveying debates between Hindus, Buddhists, Jains and materialistic philosophers about the existence and nature of God and of the human soul, the nature of knowledge, and the theory of language.\n",
            "\n",
            "Mahayana Buddhism\n",
            "This course will explore the origins and early developments of a movement in Indian Buddhism known as the Great Vehicle. We will intensively examine a small slice of this movement's voluminous literature so as to better understand its call for a new spiritual orientation within Buddhism. Topics of discussion will include the career of the bodhisattva, the lay/monk distinction, attitudes of Mahayanists toward women and other Buddhists, and the development of Buddhist utopias and transcendent buddhas. \n",
            "\n",
            "Kingship and Statecraft in Asia: Angkor and Beyond\n",
            "Kingship plays an outsize role in Asian countries today, in both democratic and authoritarian countries. Even in countries that abolished the monarchy, the legacy of kingship is very much at play. In this course we will study Asia's kingdoms, states, and empires, with attention to both tradition and present-day modern states. Focusing on kingship as both ideology and practice, we will study how states and monarchic traditions first came to be, including as Stranger-Kings, Buddhist monarchs, secondary state formation, local adaptations of foreign models, and more. We will examine examples such as China, from the ancient states and early empires to the legacy of empire there today; Cambodia and its Angkor empire modeled on Indian traditions; as well as Burma, Thailand, Japan, and other parts of Asia. Using readings, films, lectures and guest presentations, we will re-examine the role of kingship in Asia so as to enable a new understanding of both ancient, historical, and contemporary Asia.\n",
            "\n",
            "Human-Computer Interaction Design\n",
            "This course focuses on user experience design (UX) and the life cycle of interface design from the user perspective. We will discuss key aspects of the human-centered design process: understanding, analyzing, and formalizing user needs, exploring possible design solutions to address user needs, creating prototypes to externalize design ideas, and evaluating the usability of these prototypes.\n",
            "\n",
            "MFA Seminar: Fiction\n",
            "The MFA fiction seminar is a required course for all MFA fiction students.\n",
            "\n",
            "Random Negative Courses:\n",
            "Ancient Egyptian II: Introduction to Middle Egyptian Hieroglyphs\n",
            "A continuation of HIERO 1450. For over two thousand years, from the Middle Kingdom (ca. 2100 BCE) into the Roman era, Egyptian monuments were inscribed with hieroglyphs of the Middle Egyptian writing system. Students will continue to learn the complete Middle Egyptian verbal system and continue to enrich their Egyptian vocabulary. We will also continue translating complete literary and religious texts, including the fantastic tale of a sailor's maritime misadventures and divine encounters (\"The Shipwrecked Sailor\") and a hymn in honor of the sun god (\"The Litany of Re\").\n",
            "\n",
            "Medicine, Culture, and Society\n",
            "Medicine has become the language and practice through which we address a broad range of both individual and societal complaints. Interest in this medicalization of life may be one of the reasons that medical anthropology is currently the fastest-growing subfield in anthropology. This course encourages students to examine concepts of disease, suffering, health, and well-being in their immediate experience and beyond. In the process, students will gain a working knowledge of ecological, critical, phenomenological, and applied approaches used by medical anthropologists. We will investigate what is involved in becoming a doctor, the sociality of medicines, controversies over new medical technologies, and the politics of medical knowledge. The universality of biomedicine, or hospital medicine, will not be taken for granted, but rather we will examine the plurality generated by the various political, economic, social, and ethical demands under which biomedicine has developed in different places and at different times. In addition, biomedical healing and expertise will be viewed in relation to other kinds of healing and expertise. Our readings will address medicine in North America as well as other parts of the world. In class, our discussions will return regularly to consider the broad diversity of kinds of medicine throughout the world, as well as the specific historical and local contexts of biomedicine.\n",
            "\n",
            "Palestine and the Palestinians\n",
            "This course is an introduction to Palestine and the Palestinians. We will read ethnographic and historical studies written by scholars as well as by explorers, missionaries, revolutionaries, and spies. We will learn about Palestinian life—in Palestine, exile, and diaspora—and ask what these experiences can teach us about colonialism, indigeneity, capitalism, and resistance. We will also learn about how governments, courts, and activists use historical and ethnographic texts in political and legal struggles. Readings will include academic studies as well as primary sources, films, and pamphlets, and will foreground knowledge produced by Palestinian intellectuals and organizations.\n",
            "\n",
            "Early Modern Iberian Survey\n",
            "This course explores major texts and themes of the Hispanic tradition from the 11th to the 17th centuries. We will examine general questions on literary analysis and the relationship between literature and history around certain events, such as medieval multicultural Iberia, the creation of the Spanish Inquisition in the 15th century and the expulsion of the Jews in 1492; the encounter between the Old and the New Worlds; the 'opposition' of high and low in popular culture, and of the secular and the sacred in poetry and prose. Readings may be drawn from medieval short stories and miracle collections; chivalric romances, Columbus, Lazarillo de Tormes, Cervantes, Lope de Vega, Calderón, and Sor Juana Inés de la Cruz, among others.\n",
            "\n",
            "Puzzles and Paradoxes\n",
            "This course will survey a number of famous paradoxes about the nature of time, identity, logic, science, belief, decision, and value. Some of these paradoxes have widely accepted answers, but many do not. Paradoxes include (but are not limited to) Zeno's paradoxes, the sorites paradox, the liar paradox, paradoxes of probability, the doomsday and simulation arguments, Newcomb's puzzle, and the trolley problem. These paradoxes will be used as a stepping stone to deeper philosophical questions. Some of the questions we'll tackle include: Is time real? What is a person? Is infinity coherent? How is science possible? What is knowledge? What is it to be rational? What should we do? Does God exist? And finally, why is death bad?\n",
            "\n"
          ]
        }
      ]
    },
    {
      "cell_type": "code",
      "source": [
        "trial_three_labels = [\"South Asian topics\", \"miscellaneous topics\"]\n",
        "trial_three_df = make_trial_df(trial_three_labels, 3, all_predictions_df)"
      ],
      "metadata": {
        "id": "FB_hgG-0I9S_"
      },
      "execution_count": null,
      "outputs": []
    },
    {
      "cell_type": "code",
      "source": [
        "plot_labels(trial_three_df, \"BART-large-mnli with \\\"South Asian countries\\\" and \\\"miscellaneous\\\" Labels\")"
      ],
      "metadata": {
        "id": "X6Ko5XKEJCDf",
        "colab": {
          "base_uri": "https://localhost:8080/",
          "height": 668
        },
        "outputId": "ff8ef334-762b-4d92-b725-1444befd5836"
      },
      "execution_count": null,
      "outputs": [
        {
          "output_type": "stream",
          "name": "stdout",
          "text": [
            "schoolyear\n",
            "2021/22    33\n",
            "2022/23    32\n",
            "2023/24    29\n",
            "2024/25    28\n",
            "dtype: int64\n"
          ]
        },
        {
          "output_type": "display_data",
          "data": {
            "text/plain": [
              "<Figure size 1000x600 with 1 Axes>"
            ],
            "image/png": "[encoded data removed]"
          },
          "metadata": {}
        }
      ]
    },
    {
      "cell_type": "code",
      "source": [
        "sample_labels(trial_three_df)"
      ],
      "metadata": {
        "id": "6iHnVDbXJEIB",
        "colab": {
          "base_uri": "https://localhost:8080/"
        },
        "outputId": "00038af4-7768-4bd2-fcac-f493865b0a21"
      },
      "execution_count": null,
      "outputs": [
        {
          "output_type": "stream",
          "name": "stdout",
          "text": [
            "Random Positive Courses:\n",
            "Introduction to Linguistics\n",
            "Overview of the science of language, especially its theoretical underpinnings, methods, and major findings. Areas covered include: the relation between sound and meaning in human languages, social variation in language, language change over time, universals of language, and the mental representation of linguistic knowledge. Students are introduced to a wide variety of language phenomena, drawn not only from languages resembling English, but also from many that appear to be quite unlike English, such as those native to the Americas, Africa, Asia, Australia, and the South Pacific.\n",
            "\n",
            "Introduction to Indian Philosophy\n",
            "This course will survey the rich and sophisticated tradition of Indian philosophical thought from its beginnings in the speculations of Upanishads, surveying debates between Hindus, Buddhists, Jains and materialistic philosophers about the existence and nature of God and of the human soul, the nature of knowledge, and the theory of language.\n",
            "\n",
            "Literature, Culture, Religion\n",
            "This First-Year Writing Seminar is about Asian Literature, Religion, and Culture and provides the opportunity to write extensively about these issues.  Topics vary by section.\n",
            "\n",
            "Introduction to Asian Religions\n",
            "This course will explore religious traditions in South Asia (Pakistan, India, and Sri Lanka) and East Asia (China, Japan, and Korea) including Hinduism, Buddhism (South Asian and East Asian), Sikhism, Confucianism, Daoism, and Shintō. We will also encounter a wide range of religious expressions, including myth, ritual, pilgrimage, mysticism, meditation, and other spiritual technologies.\n",
            "\n",
            "Scandal, Corruption, and the Making of the British Empire in India\n",
            "As the English East India Company conquered vast Indian territories in the late 1700s, it was besieged with allegations of corruption against its leading officials. This course will examine the origins of modern imperialism through the lens of corruption, considering how corruption scandals generated new ideas of imperial sovereignty and law. Using parliamentary records and other primary sources, students will conduct research into one of the most famous corruption trials in eighteenth century Britain, the impeachment of Warren Hastings (1787-1795), former Governor of Bengal, for 'high crimes and misdemeanors'. Exploring how Hastings and his accusers debated the legal basis of imperialism, we will assess the impact of Hastings's trial and eventual acquittal on the forging of the modern British Empire.\n",
            "\n",
            "Random Negative Courses:\n",
            "Statistics for Sociological Research\n",
            "This course will introduce students to the theory and mathematics of statistical analysis. Many decisions made by ourselves and others around us are based on statistics, yet few people have a solid grip on the strengths and limitations of these techniques. This course will provide a firm foundation for statistical reasoning and logical inference using probability. While there is math in this course, it is not a math class per se, as a considerable amount of attention is devoted to interpreting statistics as well as calculating them.\n",
            "\n",
            "The Making of Modern Europe, from 1500 to the Present\n",
            "How do we make sense of the Brexit vote in Great-Britain, the rise of political Islam and the \"veil\" debates in France, the anti-globalization movements in Spain and Greece, the growth of demagogic anti-immigrant parties from the Netherlands to Italy, or the fact that Swedes get more than thirty paid days off per year?  This course seeks to answer these questions by exploring the history of modern Europe.  Among other themes, we will discuss the Protestant Reformation, the rise of absolutism, the Enlightenment, the French Revolution, industrialism, colonialism, the Russian Revolution, the two world wars, decolonization and immigration, May '68, and the construction of the European Union.  In conjunction, we will examine how modern ideologies (liberalism, Marxism, imperialism, conservatism, fascism, totalitarianism) were developed and challenged.  Through a wide array of historical documents (fiction, letters, philosophy, treatises, manifestoes, films, and art), we will consider why \"old Europe\" is still relevant for us today.\n",
            "\n",
            "Building Musical Skills\n",
            "This course is designed to develop and strengthen your fundamental musical skills through embodied music interaction. You will compose, improvise, listen, and perform. You will use fundamental musical materials such as chords, melodies, and rhythms, and learn to notate music with accepted systems and describe it with appropriate terminologies. Using your voice, the keyboard, and other instruments, you will stimulate your creativity, refine your listening skills, and put your ideas into practice. The course will address music-making from a diverse set of cultures and traditions, and the skills you acquire will be transferrable to a wide range of applications.\n",
            "\n",
            "American Drama and Theatre\n",
            "Explores major American playwrights from 1900 to 1960, introducing students to American theatre as a significant part of modern American cultural history. We will consider the ways in which theatre has contributed to the construction and deconstruction of a national identity. Similarly, we will examine the influence of the American Theatre on and in film. We will pay special attention to the social, political, and aesthetic contexts of the time period and discuss the shifting popularity of dramatic forms, including melodrama, realism, expressionism, absurdism, and the folk play, in the American theatre canon. Authors include O'Neill, Glaspell, Odets, Rice, Hellman, Hughes, Miller, Williams, and Albee, among others.\n",
            "\n",
            "Narrative Writing\n",
            "This course focuses upon the writing of fiction or related narrative forms. May include significant reading and discussion, explorations of form and technique, completion of writing assignments and prompts, and workshop peer review of student work. Many students will choose to write short stories, but excerpts from longer works will also be accepted.\n",
            "\n"
          ]
        }
      ]
    },
    {
      "cell_type": "code",
      "source": [
        "trial_four_labels = [\"Afghanistan\", \"Bangladesh\", \"Bhutan\", \"India\", \"Maldives\", \"Nepal\", \"Pakistan\",  \"Sri Lanka\", \"other\"]\n",
        "trial_four_df = make_trial_df(trial_four_labels, 4, all_predictions_df)"
      ],
      "metadata": {
        "id": "cy7kye77oyRn"
      },
      "execution_count": null,
      "outputs": []
    },
    {
      "cell_type": "code",
      "source": [
        "plot_labels(trial_four_df, \"BART-large-mnli with Country and \\\"other\\\" Labels\")"
      ],
      "metadata": {
        "id": "bxafL7PgXD0t",
        "colab": {
          "base_uri": "https://localhost:8080/",
          "height": 668
        },
        "outputId": "41884226-e853-4aee-e8a3-fbd08250267c"
      },
      "execution_count": null,
      "outputs": [
        {
          "output_type": "stream",
          "name": "stdout",
          "text": [
            "schoolyear\n",
            "2021/22    23\n",
            "2022/23    35\n",
            "2023/24    23\n",
            "2024/25    32\n",
            "dtype: int64\n"
          ]
        },
        {
          "output_type": "display_data",
          "data": {
            "text/plain": [
              "<Figure size 1000x600 with 1 Axes>"
            ],
            "image/png": "[encoded data removed]"
          },
          "metadata": {}
        }
      ]
    },
    {
      "cell_type": "code",
      "source": [
        "sample_labels(trial_four_df)"
      ],
      "metadata": {
        "id": "BFWPJEQwXMax",
        "colab": {
          "base_uri": "https://localhost:8080/"
        },
        "outputId": "a5459da2-0b10-4b4d-cf20-ee0c22e39686"
      },
      "execution_count": null,
      "outputs": [
        {
          "output_type": "stream",
          "name": "stdout",
          "text": [
            "Random Positive Courses:\n",
            "Poetry of Classical India\n",
            "The course will survey in translation a selection of major works of poetry, drama, and aesthetic theory and criticism from the Sanskrit literary tradition of ancient India. Beginning with selections from the Sanskrit epic Ramayana, traditionally regarded as the \"first poem\" in the Indian tradition, we will turn tosurvey prominent examples from the ongoing tradition of epic poetry, the rise of romantic and heroic drama through the works of the fifth century Gupta poet Kalidasa and his successors, and the extensive corpus of Sanskrit and Prakrit lyric poetry from the 2nd to the 12th century AD.\n",
            "\n",
            "Directed Research Experience\n",
            "Intended for freshmen and sophomore students who are new to undergraduate research. Students may be reading scientific literature, learning research techniques, or assisting with ongoing research. The faculty supervisor determines the work goals and the form of the final report.\n",
            "\n",
            "Writing History\n",
            "How can we learn about the past? How do we tell stories about the past? How do we judge the truth of falsity of evidence? Writing History seminars introduce students to many different ways of interpreting and writing about the past, and to the wide range of sources that historians use: from diaries to tax rolls, from scraps of textile to films and advertisements. Topics and readings vary by section.\n",
            "\n",
            "Directed Research Experience\n",
            "Intended for first-year and sophomore students who are new to undergraduate research. Students may be reading scientific literature, learning research techniques, or assisting with ongoing research. The faculty supervisor determines the work goals and the form of the final report.\n",
            "\n",
            "From the Swampy Land: Indigenous People of the Ithaca Area\n",
            "Who lived in the Ithaca area before American settlers and Cornell arrived? Where do these indigenous peoples reside today? This class explores the history and culture of the Gayogoho:no (Cayuga), which means people from the mucky land. We will read perspectives by indigenous authors, as well as archaeologists and historians, about past and current events, try to understand reasons why that history has been fragmented and distorted by more recent settlers, and delve into primary sources documenting encounters between settlers and the Gayogoho:no. We will also strive to understand the ongoing connections of the Gayogoho:no to this region despite forced dispossession and several centuries of colonialist exclusion from these lands and waters. \n",
            "\n",
            "Random Negative Courses:\n",
            "Of Ice and Men: Masculinities in the Medieval North\n",
            "The Middle Ages are usually imagined as a time of manly men and feminine women: no room for gender ambiguity in Conan the Barbarian! Yet gender, then as now, was in fact unstable, multiple, and above all, constructed. This course explores the different ways masculinity was understood, manufactured, and manipulated in northern Europe – primarily early Ireland, England, and Scandinavia – using a variety of literary, legal, historical, archaeological, and artistic sources. Students will gain new perspectives on both gender and sex, on the one hand, and the history of medieval Europe, on the other.\n",
            "\n",
            "Survey of Medieval Latin Literature\n",
            "The Survey is designed to introduce participants to characteristic genres and discourses of Medieval Latin. The traditional focus is prose style and its implications for audience and genre from classical rhetoric to the humanist revival of a 'classical' style. A basic foundation in Latin morphology, syntax, and vocabulary is assumed. Intermediate and advanced topics in post-Classical idioms and syntax will be treated as they arise, with the goal of improving the facility with which students approach, read, and, especially, understand Latin writings from the Middle Ages. In addition to studying the practice(s) of style and Latin prose composition, modern approaches to stylistic analysis, and the intersections of style and identity, participants will gain a working knowledge of medieval theories of prose style as articulated in treatises on the genera dicendi, ars dictaminis, and ars praedicandi, as well as medieval (and modern) discussions of cursus and clausulae.\n",
            "\n",
            "Fighting for Our Lives: Black Women's Reproductive Health and Activism in Historical Perspective\n",
            "This course centers Black women who have often described their reproductive health experiences as \"fighting for our lives.\" While grounded in an exploration of Black women 's experiences in the US, this course also looks across the diaspora to issues of access, rights, and equity in reproductive health. Deeply inspired by the field of Black Feminist Health Science Studies, a field that advocates for the centrality of activism in healthcare and its importance for Black women's overall health and well-being, this course examines how issues of gender, race, class, ability, and power intersect to inform how reproductive health is conceptualized, practiced, and experienced. Ultimately, this course will yield a deeper understanding of how Black women have transformed existential and literal threats on their lives into a robust terrain of community-based activism and a movement for reproductive justice. We will read across a range of texts and genres from the historical and theoretical, to memoir and documentary. With what we learn together, we will craft contributions to public debates around healthcare issues impacting Black women.\n",
            "\n",
            "Exploring German Contexts I\n",
            "Students develop basic abilities in listening, reading, writing, and speaking German in meaningful contexts through interaction in small group activities. Course materials including videos, short articles, and songs provide students with varied perspectives on German language, culture, and society.\n",
            "\n",
            "Nightlife\n",
            "This course explores nightlife as a temporality that fosters countercultural performances of the self and that serves as a site for the emergence of alternative kinship networks. Focusing on queer communities of color, course participants will be asked to interrogate the ways in which nightlife demonstrates the queer world-making potential that exists beyond the normative 9-5 capitalist model of production. Performances of the everyday, alongside films, texts, and performance art, will be analyzed through a performance studies methodological lens. Through close readings and sustained cultural analysis, students will acquire a critical understanding of the potentiality of spaces, places, and geographies codified as \"after hours\" in the development of subcultures, alternative sexualities, and emerging performance practices.\n",
            "\n"
          ]
        }
      ]
    },
    {
      "cell_type": "code",
      "source": [
        "trial_five_labels = [\"Afghan\", \"Bangladeshi\", \"Bhutanese\", \"Indian\", \"Maldivian\", \"Nepalese\", \"Pakistani\", \"Sri Lankan\", \"other\"]\n",
        "trial_five_df = make_trial_df(trial_five_labels, 5, all_predictions_df)"
      ],
      "metadata": {
        "id": "BT8WB1_1JIj7"
      },
      "execution_count": null,
      "outputs": []
    },
    {
      "cell_type": "code",
      "source": [
        "plot_labels(trial_five_df, \"BART-large-mnli with Country Adjectives and \\\"other\\\" Labels\")"
      ],
      "metadata": {
        "colab": {
          "base_uri": "https://localhost:8080/",
          "height": 668
        },
        "id": "7KCj_UuIJRmq",
        "outputId": "75b3a3ac-f609-4ba3-df62-4e2509799eac"
      },
      "execution_count": null,
      "outputs": [
        {
          "output_type": "stream",
          "name": "stdout",
          "text": [
            "schoolyear\n",
            "2021/22    7\n",
            "2022/23    7\n",
            "2023/24    4\n",
            "2024/25    7\n",
            "dtype: int64\n"
          ]
        },
        {
          "output_type": "display_data",
          "data": {
            "text/plain": [
              "<Figure size 1000x600 with 1 Axes>"
            ],
            "image/png": "[encoded data removed]"
          },
          "metadata": {}
        }
      ]
    },
    {
      "cell_type": "code",
      "source": [
        "sample_labels(trial_five_df)"
      ],
      "metadata": {
        "colab": {
          "base_uri": "https://localhost:8080/"
        },
        "id": "aqvsBWlcJUdf",
        "outputId": "e5e4fa6d-1c58-4b01-a197-3b63387e8a2f"
      },
      "execution_count": null,
      "outputs": [
        {
          "output_type": "stream",
          "name": "stdout",
          "text": [
            "Random Positive Courses:\n",
            "History of Modern India\n",
            "This introductory course is a broad survey of the history of the Indian subcontinent from remnants of the Mughal empire through the end of the British empire into the postcolonial present. Prominent themes include the emergence of nonviolent protest, religious and regional identities, ethnic rivalries, social reform and the \"woman question,\" deindustrialization, nationalism and the place of democracy and militarism in a region that includes two nuclear powers, India and Pakistan. \n",
            "\n",
            "Death in the City: Funerary Architecture in Muslim South Asia\n",
            "This seminar examines the development and transformation of Muslim funerary landscapes in the Indian subcontinent from the twelfth to the nineteenth centuries. It explores the relationship between sepulchral spaces and the urban environments with which they are connected, highlighting their role as spaces of sociability as well as piety. We will study the long history of funerary architecture through a series of case studies. This examination will involve architectural analysis of sites such as the shrine of Nizam al-Din Awliya in Delhi, close readings of poetic compositions, for example, the Maklinamah of Mir Sher 'Ali Qani, and travelogues like the Rihla of Ibn Battuta, to unravel the processes by which sites are re-imagined and re-made over time. For longer description and instructor bio visit the Society for the Humanities website.\n",
            "\n",
            "American Defense Policy and Military History from the Two World Wars to the Global War on Terror\n",
            "America is finishing up two wars, one in Iraq and one in Afghanistan. They have been the longest wars in American history and have ended amid much ambivalence about the US engagement in each place and the results. They are part of a series of wars that America has fought as a global power, with a global reach, sending its forces thousands of miles from home. That global reach is not new, and goes back all the way to 1898 and the Spanish-American War. This course will look at the American military experience from our first tentative steps onto the global stage in 1898, to the earth-spanning conflicts of World War I and II, to the nuclear tension of Cold War conflicts, and finish with the current Long War against terrorism, and the conflicts in Iraq and Afghanistan.\n",
            "\n",
            "Mahayana Buddhism\n",
            "This course will explore the origins and early developments of a movement in Indian Buddhism known as the Great Vehicle. We will intensively examine a small slice of this movement's voluminous literature so as to better understand its call for a new spiritual orientation within Buddhism. Topics of discussion will include the career of the bodhisattva, the lay/monk distinction, attitudes of Mahayanists toward women and other Buddhists, and the development of Buddhist utopias and transcendent buddhas. \n",
            "\n",
            "American Defense Policy and Military History from the Two World Wars to the Global War on Terror\n",
            "America is finishing up two wars, one in Iraq and one in Afghanistan. They have been the longest wars in American history and have ended amid much ambivalence about the US engagement in each place and the results. They are part of a series of wars that America has fought as a global power, with a global reach, sending its forces thousands of miles from home. That global reach is not new, and goes back all the way to 1898 and the Spanish-American War. This course will look at the American military experience from our first tentative steps onto the global stage in 1898, to the earth-spanning conflicts of World War I and II, to the nuclear tension of Cold War conflicts, and finish with the current Long War against terrorism, and the conflicts in Iraq and Afghanistan.\n",
            "\n",
            "Random Negative Courses:\n",
            "Kids Rule! Children's Popular Culture\n",
            "How is the figure of the child constructed in popular culture? When and to what degree do children participate in the construction of these representations? This course surveys a variety of contemporary media texts (television, film, and the internet) aimed at children ranging in age from pre-kindergarten to young adults. We explore how these texts seek to construct children as empowered consumers, contesting adult conformity. Our theoretical approach complicates definitions of childhood as a time of innocence and potential victimhood and challenges normative constructions of childhood as a time for establishing \"proper\" sexual and gender identities. Taking a cultural studies approach, the class will consider the connections between the cultural texts and the realms of advertising, toys, and gaming.\n",
            "\n",
            "Supervised Reading\n",
            "Individual investigation and discussion of special topics not covered in the regular course offerings, by arrangement with a member of the department.\n",
            "\n",
            "Modern Sephardi and Mizrahi Identities\n",
            "This class examines modern articulations of identity by and about two distinct Jewish diasporas: Sephardic and Mizrahi Jews. Sephardic Jews trace their origins to the Iberian Peninsula prior to the end of the 15th century. Mizrahim are Jews who lived in the Middle East and North Africa until the mid-20th century, and their descendants. We will explore Sephardic and Mizrahi identities in works of fiction, memoirs, essays, poetry and films produced from the mid-twentieth century to the present. We will trace routes of migration across generations, paying particular attention to how texts construct identity in relation to language and place. Works will be drawn from wide geographic distribution including the Middle East, North Africa, Europe, and the Americas, and produced in Arabic, English, French, Hebrew, Ladino, and Spanish.\n",
            "\n",
            "Health Disparities\n",
            "This course will examine how health disparities are defined and measured, sources of health disparities, and strategies to reduce health disparities. During the course students will learn of the complexities of factors that influence patterns of disease and health at multiple levels by analyzing studies of health outcomes, the social conditions that are related to the health of populations, and some of the mechanisms through which these patterns are produced.\n",
            "\n",
            "Fascism, Nationalism and Populism\n",
            "This seminar will look broadly at challenges to democratic institutions in the United States and Europe. To think about the present, we will delve into historical fascism as well as nationalism and populism. We will (1) respond to contemporary political events in the US and beyond; (2) explore the terms \"fascism\" and \"populism\" which in the last few years have come to dominate our political vocabulary in the media and the academy; (3) mobilize the instructor's area of academic expertise (fascism and populism) in the service of broad liberal arts concerns. The course focuses upon themes and readings. It is not chronological—rather it looks at different iterations of the same ideas, concepts, and fears as they emerge in different historical contexts. Seminar materials draw upon various sources: scholarly articles, films, and if possible, an occasional guest lecturer.\n",
            "\n"
          ]
        }
      ]
    },
    {
      "cell_type": "markdown",
      "source": [
        "# Gold Standard"
      ],
      "metadata": {
        "id": "Gay_da-IHGab"
      }
    },
    {
      "cell_type": "code",
      "source": [
        "if 'gold standard' in all_predictions_df.columns:\n",
        "    print(\"Gold standard found\")\n",
        "\n",
        "    count_pos_labels_per_year = all_predictions_df[all_predictions_df['gold standard'] == 1].groupby('schoolyear').size()\n",
        "    print((count_pos_labels_per_year))\n",
        "\n",
        "    # Plotting bar chart\n",
        "    plt.figure(figsize=(10, 6))\n",
        "    plt.bar(count_pos_labels_per_year.index, count_pos_labels_per_year.values, label='South Asian Counts', color='lightblue')\n",
        "\n",
        "    # Adding titles and labels\n",
        "    plt.title(\"Gold Standard South Asian Course Counts per Schoolyear\")\n",
        "    plt.xlabel('School Year')\n",
        "    plt.ylabel('South Asian Course Count')\n",
        "    plt.xticks(rotation=0)  # Rotate x-axis labels to make them readable\n",
        "\n",
        "    # Line of best fit\n",
        "    x = np.arange(len(count_pos_labels_per_year))  # X values (school years)\n",
        "    y = count_pos_labels_per_year.values  # Y values (counts)\n",
        "    slope, intercept, r_value, p_value, std_err = linregress(x, y)  # Perform linear regression\n",
        "\n",
        "    # Plotting the line of best fit\n",
        "    plt.plot(count_pos_labels_per_year.index, slope * x + intercept, color='red', label='Line of Best Fit', linestyle='--')\n",
        "\n",
        "    # Display the legend\n",
        "    plt.legend()\n",
        "\n",
        "    # Save the plot\n",
        "    plt.savefig(\"gold_standard_graph.png\")\n",
        "\n",
        "    # Show the plot\n",
        "    plt.show()\n",
        "\n",
        "else:\n",
        "    print(\"Gold standard not found\")"
      ],
      "metadata": {
        "colab": {
          "base_uri": "https://localhost:8080/",
          "height": 686
        },
        "id": "YwhXpFH1HKTa",
        "outputId": "15f52030-3b56-45fd-9131-b5f4ce41189a"
      },
      "execution_count": null,
      "outputs": [
        {
          "output_type": "stream",
          "name": "stdout",
          "text": [
            "Gold standard found\n",
            "schoolyear\n",
            "2021/22    24\n",
            "2022/23    22\n",
            "2023/24    16\n",
            "2024/25    22\n",
            "dtype: int64\n"
          ]
        },
        {
          "output_type": "display_data",
          "data": {
            "text/plain": [
              "<Figure size 1000x600 with 1 Axes>"
            ],
            "image/png": "[encoded data removed]"
          },
          "metadata": {}
        }
      ]
    },
    {
      "cell_type": "markdown",
      "source": [
        "# Trial Comparison"
      ],
      "metadata": {
        "id": "UwmntWR-KWIR"
      }
    },
    {
      "cell_type": "code",
      "source": [
        "trial_agreement_df = pd.DataFrame()\n",
        "\n",
        "agreement_data = []\n",
        "for i in range(1, 6):\n",
        "    agreement = [f'trial {i}']\n",
        "    for j in range(1, 6):\n",
        "        kappa = cohen_kappa_score(all_predictions_df[f'trial {i} label'], all_predictions_df[f'trial {j} label'])\n",
        "        agreement.append(kappa)\n",
        "    agreement_data.append(agreement)\n",
        "\n",
        "trial_agreement_df = pd.DataFrame(agreement_data, columns=['Trial'] + [f'trial {j}' for j in range(1, 6)])\n",
        "\n",
        "print(trial_agreement_df)\n"
      ],
      "metadata": {
        "id": "ULib1FTMKZDq",
        "colab": {
          "base_uri": "https://localhost:8080/"
        },
        "outputId": "e5fcc870-dc9f-4b17-c027-035c6eabee9c"
      },
      "execution_count": null,
      "outputs": [
        {
          "output_type": "stream",
          "name": "stdout",
          "text": [
            "     Trial   trial 1   trial 2   trial 3   trial 4   trial 5\n",
            "0  trial 1  1.000000  0.377811  0.393131  0.058242  0.067699\n",
            "1  trial 2  0.377811  1.000000  0.463982  0.138977  0.095215\n",
            "2  trial 3  0.393131  0.463982  1.000000  0.156463  0.182849\n",
            "3  trial 4  0.058242  0.138977  0.156463  1.000000  0.224745\n",
            "4  trial 5  0.067699  0.095215  0.182849  0.224745  1.000000\n"
          ]
        }
      ]
    },
    {
      "cell_type": "code",
      "source": [
        "if 'gold standard' in all_predictions_df.columns:\n",
        "    print(\"Gold standard found\")\n",
        "    print(\"Beginning precision, recall, and f1 score calculation\")\n",
        "    print()\n",
        "\n",
        "    trial_stats = []\n",
        "    for i in range(1, 6):\n",
        "        precision = precision_score(all_predictions_df['gold standard'], all_predictions_df[f'trial {i} label'], average='binary')\n",
        "        recall = recall_score(all_predictions_df['gold standard'], all_predictions_df[f'trial {i} label'], average='binary')\n",
        "        f1 = f1_score(all_predictions_df['gold standard'], all_predictions_df[f'trial {i} label'], average='binary')\n",
        "        trial_stats.append([f'Trial {i}', precision, recall, f1])\n",
        "\n",
        "    trial_stats_df = pd.DataFrame(trial_stats, columns=['Trial', 'Precision', 'Recall', 'F1'])\n",
        "    print(trial_stats_df)\n",
        "else:\n",
        "    print(\"Gold standard not found\")\n"
      ],
      "metadata": {
        "colab": {
          "base_uri": "https://localhost:8080/"
        },
        "id": "bAQD5Jyh_PtE",
        "outputId": "81191cae-d5f1-4e5e-86be-37bab0ea002c"
      },
      "execution_count": null,
      "outputs": [
        {
          "output_type": "stream",
          "name": "stdout",
          "text": [
            "Gold standard found\n",
            "Beginning precision, recall, and f1 score calculation\n",
            "\n",
            "     Trial  Precision    Recall        F1\n",
            "0  Trial 1   0.322404  0.702381  0.441948\n",
            "1  Trial 2   0.260188  0.988095  0.411911\n",
            "2  Trial 3   0.418033  0.607143  0.495146\n",
            "3  Trial 4   0.203540  0.273810  0.233503\n",
            "4  Trial 5   0.640000  0.190476  0.293578\n"
          ]
        }
      ]
    }
  ],
  "metadata": {
    "kernelspec": {
      "display_name": "Python 3",
      "name": "python3"
    },
    "language_info": {
      "codemirror_mode": {
        "name": "ipython",
        "version": 3
      },
      "file_extension": ".py",
      "mimetype": "text/x-python",
      "name": "python",
      "nbconvert_exporter": "python",
      "pygments_lexer": "ipython3",
      "version": "3.9.20"
    },
    "colab": {
      "provenance": []
    },
    "widgets": {
      "application/vnd.jupyter.widget-state+json": {
        "61e4351e6de9493daffbc3eb40db65fd": {
          "model_module": "@jupyter-widgets/controls",
          "model_name": "HBoxModel",
          "model_module_version": "1.5.0",
          "state": {
            "_dom_classes": [],
            "_model_module": "@jupyter-widgets/controls",
            "_model_module_version": "1.5.0",
            "_model_name": "HBoxModel",
            "_view_count": null,
            "_view_module": "@jupyter-widgets/controls",
            "_view_module_version": "1.5.0",
            "_view_name": "HBoxView",
            "box_style": "",
            "children": [
              "IPY_MODEL_6a84959456c54351a9f02bd36adc5b62",
              "IPY_MODEL_fdfc266784ad4c0288e40ae4550e848a",
              "IPY_MODEL_f7e10c82f3f942a38741ebb540224d7a"
            ],
            "layout": "IPY_MODEL_4bf2961b539f43aca4695ed014571218"
          }
        },
        "6a84959456c54351a9f02bd36adc5b62": {
          "model_module": "@jupyter-widgets/controls",
          "model_name": "HTMLModel",
          "model_module_version": "1.5.0",
          "state": {
            "_dom_classes": [],
            "_model_module": "@jupyter-widgets/controls",
            "_model_module_version": "1.5.0",
            "_model_name": "HTMLModel",
            "_view_count": null,
            "_view_module": "@jupyter-widgets/controls",
            "_view_module_version": "1.5.0",
            "_view_name": "HTMLView",
            "description": "",
            "description_tooltip": null,
            "layout": "IPY_MODEL_f35cb970e2ef448e894f76b747dccde7",
            "placeholder": "​",
            "style": "IPY_MODEL_ff58d5b8472e46f0b02096e07e90b837",
            "value": "config.json: 100%"
          }
        },
        "fdfc266784ad4c0288e40ae4550e848a": {
          "model_module": "@jupyter-widgets/controls",
          "model_name": "FloatProgressModel",
          "model_module_version": "1.5.0",
          "state": {
            "_dom_classes": [],
            "_model_module": "@jupyter-widgets/controls",
            "_model_module_version": "1.5.0",
            "_model_name": "FloatProgressModel",
            "_view_count": null,
            "_view_module": "@jupyter-widgets/controls",
            "_view_module_version": "1.5.0",
            "_view_name": "ProgressView",
            "bar_style": "success",
            "description": "",
            "description_tooltip": null,
            "layout": "IPY_MODEL_365213cb6cd84ae4a208e0e4f782f645",
            "max": 1154,
            "min": 0,
            "orientation": "horizontal",
            "style": "IPY_MODEL_f7ad3f0d79a948feb7c84e82b4a329c0",
            "value": 1154
          }
        },
        "f7e10c82f3f942a38741ebb540224d7a": {
          "model_module": "@jupyter-widgets/controls",
          "model_name": "HTMLModel",
          "model_module_version": "1.5.0",
          "state": {
            "_dom_classes": [],
            "_model_module": "@jupyter-widgets/controls",
            "_model_module_version": "1.5.0",
            "_model_name": "HTMLModel",
            "_view_count": null,
            "_view_module": "@jupyter-widgets/controls",
            "_view_module_version": "1.5.0",
            "_view_name": "HTMLView",
            "description": "",
            "description_tooltip": null,
            "layout": "IPY_MODEL_7ed32c32c2a8459c9241606cb6808085",
            "placeholder": "​",
            "style": "IPY_MODEL_a8a8ff07cf7c436fadf871a1335e5096",
            "value": " 1.15k/1.15k [00:00&lt;00:00, 48.8kB/s]"
          }
        },
        "4bf2961b539f43aca4695ed014571218": {
          "model_module": "@jupyter-widgets/base",
          "model_name": "LayoutModel",
          "model_module_version": "1.2.0",
          "state": {
            "_model_module": "@jupyter-widgets/base",
            "_model_module_version": "1.2.0",
            "_model_name": "LayoutModel",
            "_view_count": null,
            "_view_module": "@jupyter-widgets/base",
            "_view_module_version": "1.2.0",
            "_view_name": "LayoutView",
            "align_content": null,
            "align_items": null,
            "align_self": null,
            "border": null,
            "bottom": null,
            "display": null,
            "flex": null,
            "flex_flow": null,
            "grid_area": null,
            "grid_auto_columns": null,
            "grid_auto_flow": null,
            "grid_auto_rows": null,
            "grid_column": null,
            "grid_gap": null,
            "grid_row": null,
            "grid_template_areas": null,
            "grid_template_columns": null,
            "grid_template_rows": null,
            "height": null,
            "justify_content": null,
            "justify_items": null,
            "left": null,
            "margin": null,
            "max_height": null,
            "max_width": null,
            "min_height": null,
            "min_width": null,
            "object_fit": null,
            "object_position": null,
            "order": null,
            "overflow": null,
            "overflow_x": null,
            "overflow_y": null,
            "padding": null,
            "right": null,
            "top": null,
            "visibility": null,
            "width": null
          }
        },
        "f35cb970e2ef448e894f76b747dccde7": {
          "model_module": "@jupyter-widgets/base",
          "model_name": "LayoutModel",
          "model_module_version": "1.2.0",
          "state": {
            "_model_module": "@jupyter-widgets/base",
            "_model_module_version": "1.2.0",
            "_model_name": "LayoutModel",
            "_view_count": null,
            "_view_module": "@jupyter-widgets/base",
            "_view_module_version": "1.2.0",
            "_view_name": "LayoutView",
            "align_content": null,
            "align_items": null,
            "align_self": null,
            "border": null,
            "bottom": null,
            "display": null,
            "flex": null,
            "flex_flow": null,
            "grid_area": null,
            "grid_auto_columns": null,
            "grid_auto_flow": null,
            "grid_auto_rows": null,
            "grid_column": null,
            "grid_gap": null,
            "grid_row": null,
            "grid_template_areas": null,
            "grid_template_columns": null,
            "grid_template_rows": null,
            "height": null,
            "justify_content": null,
            "justify_items": null,
            "left": null,
            "margin": null,
            "max_height": null,
            "max_width": null,
            "min_height": null,
            "min_width": null,
            "object_fit": null,
            "object_position": null,
            "order": null,
            "overflow": null,
            "overflow_x": null,
            "overflow_y": null,
            "padding": null,
            "right": null,
            "top": null,
            "visibility": null,
            "width": null
          }
        },
        "ff58d5b8472e46f0b02096e07e90b837": {
          "model_module": "@jupyter-widgets/controls",
          "model_name": "DescriptionStyleModel",
          "model_module_version": "1.5.0",
          "state": {
            "_model_module": "@jupyter-widgets/controls",
            "_model_module_version": "1.5.0",
            "_model_name": "DescriptionStyleModel",
            "_view_count": null,
            "_view_module": "@jupyter-widgets/base",
            "_view_module_version": "1.2.0",
            "_view_name": "StyleView",
            "description_width": ""
          }
        },
        "365213cb6cd84ae4a208e0e4f782f645": {
          "model_module": "@jupyter-widgets/base",
          "model_name": "LayoutModel",
          "model_module_version": "1.2.0",
          "state": {
            "_model_module": "@jupyter-widgets/base",
            "_model_module_version": "1.2.0",
            "_model_name": "LayoutModel",
            "_view_count": null,
            "_view_module": "@jupyter-widgets/base",
            "_view_module_version": "1.2.0",
            "_view_name": "LayoutView",
            "align_content": null,
            "align_items": null,
            "align_self": null,
            "border": null,
            "bottom": null,
            "display": null,
            "flex": null,
            "flex_flow": null,
            "grid_area": null,
            "grid_auto_columns": null,
            "grid_auto_flow": null,
            "grid_auto_rows": null,
            "grid_column": null,
            "grid_gap": null,
            "grid_row": null,
            "grid_template_areas": null,
            "grid_template_columns": null,
            "grid_template_rows": null,
            "height": null,
            "justify_content": null,
            "justify_items": null,
            "left": null,
            "margin": null,
            "max_height": null,
            "max_width": null,
            "min_height": null,
            "min_width": null,
            "object_fit": null,
            "object_position": null,
            "order": null,
            "overflow": null,
            "overflow_x": null,
            "overflow_y": null,
            "padding": null,
            "right": null,
            "top": null,
            "visibility": null,
            "width": null
          }
        },
        "f7ad3f0d79a948feb7c84e82b4a329c0": {
          "model_module": "@jupyter-widgets/controls",
          "model_name": "ProgressStyleModel",
          "model_module_version": "1.5.0",
          "state": {
            "_model_module": "@jupyter-widgets/controls",
            "_model_module_version": "1.5.0",
            "_model_name": "ProgressStyleModel",
            "_view_count": null,
            "_view_module": "@jupyter-widgets/base",
            "_view_module_version": "1.2.0",
            "_view_name": "StyleView",
            "bar_color": null,
            "description_width": ""
          }
        },
        "7ed32c32c2a8459c9241606cb6808085": {
          "model_module": "@jupyter-widgets/base",
          "model_name": "LayoutModel",
          "model_module_version": "1.2.0",
          "state": {
            "_model_module": "@jupyter-widgets/base",
            "_model_module_version": "1.2.0",
            "_model_name": "LayoutModel",
            "_view_count": null,
            "_view_module": "@jupyter-widgets/base",
            "_view_module_version": "1.2.0",
            "_view_name": "LayoutView",
            "align_content": null,
            "align_items": null,
            "align_self": null,
            "border": null,
            "bottom": null,
            "display": null,
            "flex": null,
            "flex_flow": null,
            "grid_area": null,
            "grid_auto_columns": null,
            "grid_auto_flow": null,
            "grid_auto_rows": null,
            "grid_column": null,
            "grid_gap": null,
            "grid_row": null,
            "grid_template_areas": null,
            "grid_template_columns": null,
            "grid_template_rows": null,
            "height": null,
            "justify_content": null,
            "justify_items": null,
            "left": null,
            "margin": null,
            "max_height": null,
            "max_width": null,
            "min_height": null,
            "min_width": null,
            "object_fit": null,
            "object_position": null,
            "order": null,
            "overflow": null,
            "overflow_x": null,
            "overflow_y": null,
            "padding": null,
            "right": null,
            "top": null,
            "visibility": null,
            "width": null
          }
        },
        "a8a8ff07cf7c436fadf871a1335e5096": {
          "model_module": "@jupyter-widgets/controls",
          "model_name": "DescriptionStyleModel",
          "model_module_version": "1.5.0",
          "state": {
            "_model_module": "@jupyter-widgets/controls",
            "_model_module_version": "1.5.0",
            "_model_name": "DescriptionStyleModel",
            "_view_count": null,
            "_view_module": "@jupyter-widgets/base",
            "_view_module_version": "1.2.0",
            "_view_name": "StyleView",
            "description_width": ""
          }
        },
        "e537940aedb34d2889eb28831523beaf": {
          "model_module": "@jupyter-widgets/controls",
          "model_name": "HBoxModel",
          "model_module_version": "1.5.0",
          "state": {
            "_dom_classes": [],
            "_model_module": "@jupyter-widgets/controls",
            "_model_module_version": "1.5.0",
            "_model_name": "HBoxModel",
            "_view_count": null,
            "_view_module": "@jupyter-widgets/controls",
            "_view_module_version": "1.5.0",
            "_view_name": "HBoxView",
            "box_style": "",
            "children": [
              "IPY_MODEL_e83e2f5810e4492ab07cab96c24c7e8c",
              "IPY_MODEL_1a32b485f19145b79118a18f9a77f903",
              "IPY_MODEL_f45e734f828640ff8ef072bcf51eef00"
            ],
            "layout": "IPY_MODEL_f94850dcbfba44e1b543bcaa3477a69d"
          }
        },
        "e83e2f5810e4492ab07cab96c24c7e8c": {
          "model_module": "@jupyter-widgets/controls",
          "model_name": "HTMLModel",
          "model_module_version": "1.5.0",
          "state": {
            "_dom_classes": [],
            "_model_module": "@jupyter-widgets/controls",
            "_model_module_version": "1.5.0",
            "_model_name": "HTMLModel",
            "_view_count": null,
            "_view_module": "@jupyter-widgets/controls",
            "_view_module_version": "1.5.0",
            "_view_name": "HTMLView",
            "description": "",
            "description_tooltip": null,
            "layout": "IPY_MODEL_6e0ed001d4ed43adaf7f5dd30821fa4d",
            "placeholder": "​",
            "style": "IPY_MODEL_e0f7daf87d934221af636d80bad1a8e5",
            "value": "model.safetensors: 100%"
          }
        },
        "1a32b485f19145b79118a18f9a77f903": {
          "model_module": "@jupyter-widgets/controls",
          "model_name": "FloatProgressModel",
          "model_module_version": "1.5.0",
          "state": {
            "_dom_classes": [],
            "_model_module": "@jupyter-widgets/controls",
            "_model_module_version": "1.5.0",
            "_model_name": "FloatProgressModel",
            "_view_count": null,
            "_view_module": "@jupyter-widgets/controls",
            "_view_module_version": "1.5.0",
            "_view_name": "ProgressView",
            "bar_style": "success",
            "description": "",
            "description_tooltip": null,
            "layout": "IPY_MODEL_63dada85a4b5449bb200081e18fa5c0b",
            "max": 1629437147,
            "min": 0,
            "orientation": "horizontal",
            "style": "IPY_MODEL_4220f12604204944940b15cede0182f4",
            "value": 1629437147
          }
        },
        "f45e734f828640ff8ef072bcf51eef00": {
          "model_module": "@jupyter-widgets/controls",
          "model_name": "HTMLModel",
          "model_module_version": "1.5.0",
          "state": {
            "_dom_classes": [],
            "_model_module": "@jupyter-widgets/controls",
            "_model_module_version": "1.5.0",
            "_model_name": "HTMLModel",
            "_view_count": null,
            "_view_module": "@jupyter-widgets/controls",
            "_view_module_version": "1.5.0",
            "_view_name": "HTMLView",
            "description": "",
            "description_tooltip": null,
            "layout": "IPY_MODEL_1aad0e32164e41acbd515851b0c6fb97",
            "placeholder": "​",
            "style": "IPY_MODEL_09498a75c20a4a70aeb50918d2ff827a",
            "value": " 1.63G/1.63G [00:10&lt;00:00, 246MB/s]"
          }
        },
        "f94850dcbfba44e1b543bcaa3477a69d": {
          "model_module": "@jupyter-widgets/base",
          "model_name": "LayoutModel",
          "model_module_version": "1.2.0",
          "state": {
            "_model_module": "@jupyter-widgets/base",
            "_model_module_version": "1.2.0",
            "_model_name": "LayoutModel",
            "_view_count": null,
            "_view_module": "@jupyter-widgets/base",
            "_view_module_version": "1.2.0",
            "_view_name": "LayoutView",
            "align_content": null,
            "align_items": null,
            "align_self": null,
            "border": null,
            "bottom": null,
            "display": null,
            "flex": null,
            "flex_flow": null,
            "grid_area": null,
            "grid_auto_columns": null,
            "grid_auto_flow": null,
            "grid_auto_rows": null,
            "grid_column": null,
            "grid_gap": null,
            "grid_row": null,
            "grid_template_areas": null,
            "grid_template_columns": null,
            "grid_template_rows": null,
            "height": null,
            "justify_content": null,
            "justify_items": null,
            "left": null,
            "margin": null,
            "max_height": null,
            "max_width": null,
            "min_height": null,
            "min_width": null,
            "object_fit": null,
            "object_position": null,
            "order": null,
            "overflow": null,
            "overflow_x": null,
            "overflow_y": null,
            "padding": null,
            "right": null,
            "top": null,
            "visibility": null,
            "width": null
          }
        },
        "6e0ed001d4ed43adaf7f5dd30821fa4d": {
          "model_module": "@jupyter-widgets/base",
          "model_name": "LayoutModel",
          "model_module_version": "1.2.0",
          "state": {
            "_model_module": "@jupyter-widgets/base",
            "_model_module_version": "1.2.0",
            "_model_name": "LayoutModel",
            "_view_count": null,
            "_view_module": "@jupyter-widgets/base",
            "_view_module_version": "1.2.0",
            "_view_name": "LayoutView",
            "align_content": null,
            "align_items": null,
            "align_self": null,
            "border": null,
            "bottom": null,
            "display": null,
            "flex": null,
            "flex_flow": null,
            "grid_area": null,
            "grid_auto_columns": null,
            "grid_auto_flow": null,
            "grid_auto_rows": null,
            "grid_column": null,
            "grid_gap": null,
            "grid_row": null,
            "grid_template_areas": null,
            "grid_template_columns": null,
            "grid_template_rows": null,
            "height": null,
            "justify_content": null,
            "justify_items": null,
            "left": null,
            "margin": null,
            "max_height": null,
            "max_width": null,
            "min_height": null,
            "min_width": null,
            "object_fit": null,
            "object_position": null,
            "order": null,
            "overflow": null,
            "overflow_x": null,
            "overflow_y": null,
            "padding": null,
            "right": null,
            "top": null,
            "visibility": null,
            "width": null
          }
        },
        "e0f7daf87d934221af636d80bad1a8e5": {
          "model_module": "@jupyter-widgets/controls",
          "model_name": "DescriptionStyleModel",
          "model_module_version": "1.5.0",
          "state": {
            "_model_module": "@jupyter-widgets/controls",
            "_model_module_version": "1.5.0",
            "_model_name": "DescriptionStyleModel",
            "_view_count": null,
            "_view_module": "@jupyter-widgets/base",
            "_view_module_version": "1.2.0",
            "_view_name": "StyleView",
            "description_width": ""
          }
        },
        "63dada85a4b5449bb200081e18fa5c0b": {
          "model_module": "@jupyter-widgets/base",
          "model_name": "LayoutModel",
          "model_module_version": "1.2.0",
          "state": {
            "_model_module": "@jupyter-widgets/base",
            "_model_module_version": "1.2.0",
            "_model_name": "LayoutModel",
            "_view_count": null,
            "_view_module": "@jupyter-widgets/base",
            "_view_module_version": "1.2.0",
            "_view_name": "LayoutView",
            "align_content": null,
            "align_items": null,
            "align_self": null,
            "border": null,
            "bottom": null,
            "display": null,
            "flex": null,
            "flex_flow": null,
            "grid_area": null,
            "grid_auto_columns": null,
            "grid_auto_flow": null,
            "grid_auto_rows": null,
            "grid_column": null,
            "grid_gap": null,
            "grid_row": null,
            "grid_template_areas": null,
            "grid_template_columns": null,
            "grid_template_rows": null,
            "height": null,
            "justify_content": null,
            "justify_items": null,
            "left": null,
            "margin": null,
            "max_height": null,
            "max_width": null,
            "min_height": null,
            "min_width": null,
            "object_fit": null,
            "object_position": null,
            "order": null,
            "overflow": null,
            "overflow_x": null,
            "overflow_y": null,
            "padding": null,
            "right": null,
            "top": null,
            "visibility": null,
            "width": null
          }
        },
        "4220f12604204944940b15cede0182f4": {
          "model_module": "@jupyter-widgets/controls",
          "model_name": "ProgressStyleModel",
          "model_module_version": "1.5.0",
          "state": {
            "_model_module": "@jupyter-widgets/controls",
            "_model_module_version": "1.5.0",
            "_model_name": "ProgressStyleModel",
            "_view_count": null,
            "_view_module": "@jupyter-widgets/base",
            "_view_module_version": "1.2.0",
            "_view_name": "StyleView",
            "bar_color": null,
            "description_width": ""
          }
        },
        "1aad0e32164e41acbd515851b0c6fb97": {
          "model_module": "@jupyter-widgets/base",
          "model_name": "LayoutModel",
          "model_module_version": "1.2.0",
          "state": {
            "_model_module": "@jupyter-widgets/base",
            "_model_module_version": "1.2.0",
            "_model_name": "LayoutModel",
            "_view_count": null,
            "_view_module": "@jupyter-widgets/base",
            "_view_module_version": "1.2.0",
            "_view_name": "LayoutView",
            "align_content": null,
            "align_items": null,
            "align_self": null,
            "border": null,
            "bottom": null,
            "display": null,
            "flex": null,
            "flex_flow": null,
            "grid_area": null,
            "grid_auto_columns": null,
            "grid_auto_flow": null,
            "grid_auto_rows": null,
            "grid_column": null,
            "grid_gap": null,
            "grid_row": null,
            "grid_template_areas": null,
            "grid_template_columns": null,
            "grid_template_rows": null,
            "height": null,
            "justify_content": null,
            "justify_items": null,
            "left": null,
            "margin": null,
            "max_height": null,
            "max_width": null,
            "min_height": null,
            "min_width": null,
            "object_fit": null,
            "object_position": null,
            "order": null,
            "overflow": null,
            "overflow_x": null,
            "overflow_y": null,
            "padding": null,
            "right": null,
            "top": null,
            "visibility": null,
            "width": null
          }
        },
        "09498a75c20a4a70aeb50918d2ff827a": {
          "model_module": "@jupyter-widgets/controls",
          "model_name": "DescriptionStyleModel",
          "model_module_version": "1.5.0",
          "state": {
            "_model_module": "@jupyter-widgets/controls",
            "_model_module_version": "1.5.0",
            "_model_name": "DescriptionStyleModel",
            "_view_count": null,
            "_view_module": "@jupyter-widgets/base",
            "_view_module_version": "1.2.0",
            "_view_name": "StyleView",
            "description_width": ""
          }
        },
        "581e6434387e4242b1290e34e4fbbdb8": {
          "model_module": "@jupyter-widgets/controls",
          "model_name": "HBoxModel",
          "model_module_version": "1.5.0",
          "state": {
            "_dom_classes": [],
            "_model_module": "@jupyter-widgets/controls",
            "_model_module_version": "1.5.0",
            "_model_name": "HBoxModel",
            "_view_count": null,
            "_view_module": "@jupyter-widgets/controls",
            "_view_module_version": "1.5.0",
            "_view_name": "HBoxView",
            "box_style": "",
            "children": [
              "IPY_MODEL_c4ec754bde104af592177dbb7ff2399d",
              "IPY_MODEL_29a71b9a34964f599d76367d5e7ce677",
              "IPY_MODEL_e1374cc8f66b4076a64c7fc0b2b6f352"
            ],
            "layout": "IPY_MODEL_860e60851cd941c5ac9b20a1549f182f"
          }
        },
        "c4ec754bde104af592177dbb7ff2399d": {
          "model_module": "@jupyter-widgets/controls",
          "model_name": "HTMLModel",
          "model_module_version": "1.5.0",
          "state": {
            "_dom_classes": [],
            "_model_module": "@jupyter-widgets/controls",
            "_model_module_version": "1.5.0",
            "_model_name": "HTMLModel",
            "_view_count": null,
            "_view_module": "@jupyter-widgets/controls",
            "_view_module_version": "1.5.0",
            "_view_name": "HTMLView",
            "description": "",
            "description_tooltip": null,
            "layout": "IPY_MODEL_0e55632f73764cefb3bf2d7878db172f",
            "placeholder": "​",
            "style": "IPY_MODEL_2353b0c3e59e4a19a67f8544a8d0554f",
            "value": "tokenizer_config.json: 100%"
          }
        },
        "29a71b9a34964f599d76367d5e7ce677": {
          "model_module": "@jupyter-widgets/controls",
          "model_name": "FloatProgressModel",
          "model_module_version": "1.5.0",
          "state": {
            "_dom_classes": [],
            "_model_module": "@jupyter-widgets/controls",
            "_model_module_version": "1.5.0",
            "_model_name": "FloatProgressModel",
            "_view_count": null,
            "_view_module": "@jupyter-widgets/controls",
            "_view_module_version": "1.5.0",
            "_view_name": "ProgressView",
            "bar_style": "success",
            "description": "",
            "description_tooltip": null,
            "layout": "IPY_MODEL_280fc8d6bd66463dacfd62052aedd4ec",
            "max": 26,
            "min": 0,
            "orientation": "horizontal",
            "style": "IPY_MODEL_5cea1ae3cc0c48188d7c16733868f113",
            "value": 26
          }
        },
        "e1374cc8f66b4076a64c7fc0b2b6f352": {
          "model_module": "@jupyter-widgets/controls",
          "model_name": "HTMLModel",
          "model_module_version": "1.5.0",
          "state": {
            "_dom_classes": [],
            "_model_module": "@jupyter-widgets/controls",
            "_model_module_version": "1.5.0",
            "_model_name": "HTMLModel",
            "_view_count": null,
            "_view_module": "@jupyter-widgets/controls",
            "_view_module_version": "1.5.0",
            "_view_name": "HTMLView",
            "description": "",
            "description_tooltip": null,
            "layout": "IPY_MODEL_0866a324a32845bbbbd07848a8f7cfbc",
            "placeholder": "​",
            "style": "IPY_MODEL_15f694d9a4064f488697976945425a19",
            "value": " 26.0/26.0 [00:00&lt;00:00, 1.73kB/s]"
          }
        },
        "860e60851cd941c5ac9b20a1549f182f": {
          "model_module": "@jupyter-widgets/base",
          "model_name": "LayoutModel",
          "model_module_version": "1.2.0",
          "state": {
            "_model_module": "@jupyter-widgets/base",
            "_model_module_version": "1.2.0",
            "_model_name": "LayoutModel",
            "_view_count": null,
            "_view_module": "@jupyter-widgets/base",
            "_view_module_version": "1.2.0",
            "_view_name": "LayoutView",
            "align_content": null,
            "align_items": null,
            "align_self": null,
            "border": null,
            "bottom": null,
            "display": null,
            "flex": null,
            "flex_flow": null,
            "grid_area": null,
            "grid_auto_columns": null,
            "grid_auto_flow": null,
            "grid_auto_rows": null,
            "grid_column": null,
            "grid_gap": null,
            "grid_row": null,
            "grid_template_areas": null,
            "grid_template_columns": null,
            "grid_template_rows": null,
            "height": null,
            "justify_content": null,
            "justify_items": null,
            "left": null,
            "margin": null,
            "max_height": null,
            "max_width": null,
            "min_height": null,
            "min_width": null,
            "object_fit": null,
            "object_position": null,
            "order": null,
            "overflow": null,
            "overflow_x": null,
            "overflow_y": null,
            "padding": null,
            "right": null,
            "top": null,
            "visibility": null,
            "width": null
          }
        },
        "0e55632f73764cefb3bf2d7878db172f": {
          "model_module": "@jupyter-widgets/base",
          "model_name": "LayoutModel",
          "model_module_version": "1.2.0",
          "state": {
            "_model_module": "@jupyter-widgets/base",
            "_model_module_version": "1.2.0",
            "_model_name": "LayoutModel",
            "_view_count": null,
            "_view_module": "@jupyter-widgets/base",
            "_view_module_version": "1.2.0",
            "_view_name": "LayoutView",
            "align_content": null,
            "align_items": null,
            "align_self": null,
            "border": null,
            "bottom": null,
            "display": null,
            "flex": null,
            "flex_flow": null,
            "grid_area": null,
            "grid_auto_columns": null,
            "grid_auto_flow": null,
            "grid_auto_rows": null,
            "grid_column": null,
            "grid_gap": null,
            "grid_row": null,
            "grid_template_areas": null,
            "grid_template_columns": null,
            "grid_template_rows": null,
            "height": null,
            "justify_content": null,
            "justify_items": null,
            "left": null,
            "margin": null,
            "max_height": null,
            "max_width": null,
            "min_height": null,
            "min_width": null,
            "object_fit": null,
            "object_position": null,
            "order": null,
            "overflow": null,
            "overflow_x": null,
            "overflow_y": null,
            "padding": null,
            "right": null,
            "top": null,
            "visibility": null,
            "width": null
          }
        },
        "2353b0c3e59e4a19a67f8544a8d0554f": {
          "model_module": "@jupyter-widgets/controls",
          "model_name": "DescriptionStyleModel",
          "model_module_version": "1.5.0",
          "state": {
            "_model_module": "@jupyter-widgets/controls",
            "_model_module_version": "1.5.0",
            "_model_name": "DescriptionStyleModel",
            "_view_count": null,
            "_view_module": "@jupyter-widgets/base",
            "_view_module_version": "1.2.0",
            "_view_name": "StyleView",
            "description_width": ""
          }
        },
        "280fc8d6bd66463dacfd62052aedd4ec": {
          "model_module": "@jupyter-widgets/base",
          "model_name": "LayoutModel",
          "model_module_version": "1.2.0",
          "state": {
            "_model_module": "@jupyter-widgets/base",
            "_model_module_version": "1.2.0",
            "_model_name": "LayoutModel",
            "_view_count": null,
            "_view_module": "@jupyter-widgets/base",
            "_view_module_version": "1.2.0",
            "_view_name": "LayoutView",
            "align_content": null,
            "align_items": null,
            "align_self": null,
            "border": null,
            "bottom": null,
            "display": null,
            "flex": null,
            "flex_flow": null,
            "grid_area": null,
            "grid_auto_columns": null,
            "grid_auto_flow": null,
            "grid_auto_rows": null,
            "grid_column": null,
            "grid_gap": null,
            "grid_row": null,
            "grid_template_areas": null,
            "grid_template_columns": null,
            "grid_template_rows": null,
            "height": null,
            "justify_content": null,
            "justify_items": null,
            "left": null,
            "margin": null,
            "max_height": null,
            "max_width": null,
            "min_height": null,
            "min_width": null,
            "object_fit": null,
            "object_position": null,
            "order": null,
            "overflow": null,
            "overflow_x": null,
            "overflow_y": null,
            "padding": null,
            "right": null,
            "top": null,
            "visibility": null,
            "width": null
          }
        },
        "5cea1ae3cc0c48188d7c16733868f113": {
          "model_module": "@jupyter-widgets/controls",
          "model_name": "ProgressStyleModel",
          "model_module_version": "1.5.0",
          "state": {
            "_model_module": "@jupyter-widgets/controls",
            "_model_module_version": "1.5.0",
            "_model_name": "ProgressStyleModel",
            "_view_count": null,
            "_view_module": "@jupyter-widgets/base",
            "_view_module_version": "1.2.0",
            "_view_name": "StyleView",
            "bar_color": null,
            "description_width": ""
          }
        },
        "0866a324a32845bbbbd07848a8f7cfbc": {
          "model_module": "@jupyter-widgets/base",
          "model_name": "LayoutModel",
          "model_module_version": "1.2.0",
          "state": {
            "_model_module": "@jupyter-widgets/base",
            "_model_module_version": "1.2.0",
            "_model_name": "LayoutModel",
            "_view_count": null,
            "_view_module": "@jupyter-widgets/base",
            "_view_module_version": "1.2.0",
            "_view_name": "LayoutView",
            "align_content": null,
            "align_items": null,
            "align_self": null,
            "border": null,
            "bottom": null,
            "display": null,
            "flex": null,
            "flex_flow": null,
            "grid_area": null,
            "grid_auto_columns": null,
            "grid_auto_flow": null,
            "grid_auto_rows": null,
            "grid_column": null,
            "grid_gap": null,
            "grid_row": null,
            "grid_template_areas": null,
            "grid_template_columns": null,
            "grid_template_rows": null,
            "height": null,
            "justify_content": null,
            "justify_items": null,
            "left": null,
            "margin": null,
            "max_height": null,
            "max_width": null,
            "min_height": null,
            "min_width": null,
            "object_fit": null,
            "object_position": null,
            "order": null,
            "overflow": null,
            "overflow_x": null,
            "overflow_y": null,
            "padding": null,
            "right": null,
            "top": null,
            "visibility": null,
            "width": null
          }
        },
        "15f694d9a4064f488697976945425a19": {
          "model_module": "@jupyter-widgets/controls",
          "model_name": "DescriptionStyleModel",
          "model_module_version": "1.5.0",
          "state": {
            "_model_module": "@jupyter-widgets/controls",
            "_model_module_version": "1.5.0",
            "_model_name": "DescriptionStyleModel",
            "_view_count": null,
            "_view_module": "@jupyter-widgets/base",
            "_view_module_version": "1.2.0",
            "_view_name": "StyleView",
            "description_width": ""
          }
        },
        "19f54a8dfa1b45e1972a4fd6dae5515a": {
          "model_module": "@jupyter-widgets/controls",
          "model_name": "HBoxModel",
          "model_module_version": "1.5.0",
          "state": {
            "_dom_classes": [],
            "_model_module": "@jupyter-widgets/controls",
            "_model_module_version": "1.5.0",
            "_model_name": "HBoxModel",
            "_view_count": null,
            "_view_module": "@jupyter-widgets/controls",
            "_view_module_version": "1.5.0",
            "_view_name": "HBoxView",
            "box_style": "",
            "children": [
              "IPY_MODEL_3e0eb89a1a2241fba049a564dc25d96a",
              "IPY_MODEL_3680a727811740d28b919d83cbf2b500",
              "IPY_MODEL_c29acf513ade407d98d6e15646cd1825"
            ],
            "layout": "IPY_MODEL_cce9103cb2af4eeaa14016a34f0db6df"
          }
        },
        "3e0eb89a1a2241fba049a564dc25d96a": {
          "model_module": "@jupyter-widgets/controls",
          "model_name": "HTMLModel",
          "model_module_version": "1.5.0",
          "state": {
            "_dom_classes": [],
            "_model_module": "@jupyter-widgets/controls",
            "_model_module_version": "1.5.0",
            "_model_name": "HTMLModel",
            "_view_count": null,
            "_view_module": "@jupyter-widgets/controls",
            "_view_module_version": "1.5.0",
            "_view_name": "HTMLView",
            "description": "",
            "description_tooltip": null,
            "layout": "IPY_MODEL_f40c1be69ff8476997dd99a72bce7f9c",
            "placeholder": "​",
            "style": "IPY_MODEL_6eab135ae82643769fdcd8e755f91253",
            "value": "vocab.json: 100%"
          }
        },
        "3680a727811740d28b919d83cbf2b500": {
          "model_module": "@jupyter-widgets/controls",
          "model_name": "FloatProgressModel",
          "model_module_version": "1.5.0",
          "state": {
            "_dom_classes": [],
            "_model_module": "@jupyter-widgets/controls",
            "_model_module_version": "1.5.0",
            "_model_name": "FloatProgressModel",
            "_view_count": null,
            "_view_module": "@jupyter-widgets/controls",
            "_view_module_version": "1.5.0",
            "_view_name": "ProgressView",
            "bar_style": "success",
            "description": "",
            "description_tooltip": null,
            "layout": "IPY_MODEL_019502836d424c91bc7df1bed477fe7c",
            "max": 898822,
            "min": 0,
            "orientation": "horizontal",
            "style": "IPY_MODEL_a500117dac044eccbe741205c4a07ca3",
            "value": 898822
          }
        },
        "c29acf513ade407d98d6e15646cd1825": {
          "model_module": "@jupyter-widgets/controls",
          "model_name": "HTMLModel",
          "model_module_version": "1.5.0",
          "state": {
            "_dom_classes": [],
            "_model_module": "@jupyter-widgets/controls",
            "_model_module_version": "1.5.0",
            "_model_name": "HTMLModel",
            "_view_count": null,
            "_view_module": "@jupyter-widgets/controls",
            "_view_module_version": "1.5.0",
            "_view_name": "HTMLView",
            "description": "",
            "description_tooltip": null,
            "layout": "IPY_MODEL_d02f463a6be8417382ce990030f954d9",
            "placeholder": "​",
            "style": "IPY_MODEL_adcc620011fd44d0ab8fcc0f17370829",
            "value": " 899k/899k [00:00&lt;00:00, 18.3MB/s]"
          }
        },
        "cce9103cb2af4eeaa14016a34f0db6df": {
          "model_module": "@jupyter-widgets/base",
          "model_name": "LayoutModel",
          "model_module_version": "1.2.0",
          "state": {
            "_model_module": "@jupyter-widgets/base",
            "_model_module_version": "1.2.0",
            "_model_name": "LayoutModel",
            "_view_count": null,
            "_view_module": "@jupyter-widgets/base",
            "_view_module_version": "1.2.0",
            "_view_name": "LayoutView",
            "align_content": null,
            "align_items": null,
            "align_self": null,
            "border": null,
            "bottom": null,
            "display": null,
            "flex": null,
            "flex_flow": null,
            "grid_area": null,
            "grid_auto_columns": null,
            "grid_auto_flow": null,
            "grid_auto_rows": null,
            "grid_column": null,
            "grid_gap": null,
            "grid_row": null,
            "grid_template_areas": null,
            "grid_template_columns": null,
            "grid_template_rows": null,
            "height": null,
            "justify_content": null,
            "justify_items": null,
            "left": null,
            "margin": null,
            "max_height": null,
            "max_width": null,
            "min_height": null,
            "min_width": null,
            "object_fit": null,
            "object_position": null,
            "order": null,
            "overflow": null,
            "overflow_x": null,
            "overflow_y": null,
            "padding": null,
            "right": null,
            "top": null,
            "visibility": null,
            "width": null
          }
        },
        "f40c1be69ff8476997dd99a72bce7f9c": {
          "model_module": "@jupyter-widgets/base",
          "model_name": "LayoutModel",
          "model_module_version": "1.2.0",
          "state": {
            "_model_module": "@jupyter-widgets/base",
            "_model_module_version": "1.2.0",
            "_model_name": "LayoutModel",
            "_view_count": null,
            "_view_module": "@jupyter-widgets/base",
            "_view_module_version": "1.2.0",
            "_view_name": "LayoutView",
            "align_content": null,
            "align_items": null,
            "align_self": null,
            "border": null,
            "bottom": null,
            "display": null,
            "flex": null,
            "flex_flow": null,
            "grid_area": null,
            "grid_auto_columns": null,
            "grid_auto_flow": null,
            "grid_auto_rows": null,
            "grid_column": null,
            "grid_gap": null,
            "grid_row": null,
            "grid_template_areas": null,
            "grid_template_columns": null,
            "grid_template_rows": null,
            "height": null,
            "justify_content": null,
            "justify_items": null,
            "left": null,
            "margin": null,
            "max_height": null,
            "max_width": null,
            "min_height": null,
            "min_width": null,
            "object_fit": null,
            "object_position": null,
            "order": null,
            "overflow": null,
            "overflow_x": null,
            "overflow_y": null,
            "padding": null,
            "right": null,
            "top": null,
            "visibility": null,
            "width": null
          }
        },
        "6eab135ae82643769fdcd8e755f91253": {
          "model_module": "@jupyter-widgets/controls",
          "model_name": "DescriptionStyleModel",
          "model_module_version": "1.5.0",
          "state": {
            "_model_module": "@jupyter-widgets/controls",
            "_model_module_version": "1.5.0",
            "_model_name": "DescriptionStyleModel",
            "_view_count": null,
            "_view_module": "@jupyter-widgets/base",
            "_view_module_version": "1.2.0",
            "_view_name": "StyleView",
            "description_width": ""
          }
        },
        "019502836d424c91bc7df1bed477fe7c": {
          "model_module": "@jupyter-widgets/base",
          "model_name": "LayoutModel",
          "model_module_version": "1.2.0",
          "state": {
            "_model_module": "@jupyter-widgets/base",
            "_model_module_version": "1.2.0",
            "_model_name": "LayoutModel",
            "_view_count": null,
            "_view_module": "@jupyter-widgets/base",
            "_view_module_version": "1.2.0",
            "_view_name": "LayoutView",
            "align_content": null,
            "align_items": null,
            "align_self": null,
            "border": null,
            "bottom": null,
            "display": null,
            "flex": null,
            "flex_flow": null,
            "grid_area": null,
            "grid_auto_columns": null,
            "grid_auto_flow": null,
            "grid_auto_rows": null,
            "grid_column": null,
            "grid_gap": null,
            "grid_row": null,
            "grid_template_areas": null,
            "grid_template_columns": null,
            "grid_template_rows": null,
            "height": null,
            "justify_content": null,
            "justify_items": null,
            "left": null,
            "margin": null,
            "max_height": null,
            "max_width": null,
            "min_height": null,
            "min_width": null,
            "object_fit": null,
            "object_position": null,
            "order": null,
            "overflow": null,
            "overflow_x": null,
            "overflow_y": null,
            "padding": null,
            "right": null,
            "top": null,
            "visibility": null,
            "width": null
          }
        },
        "a500117dac044eccbe741205c4a07ca3": {
          "model_module": "@jupyter-widgets/controls",
          "model_name": "ProgressStyleModel",
          "model_module_version": "1.5.0",
          "state": {
            "_model_module": "@jupyter-widgets/controls",
            "_model_module_version": "1.5.0",
            "_model_name": "ProgressStyleModel",
            "_view_count": null,
            "_view_module": "@jupyter-widgets/base",
            "_view_module_version": "1.2.0",
            "_view_name": "StyleView",
            "bar_color": null,
            "description_width": ""
          }
        },
        "d02f463a6be8417382ce990030f954d9": {
          "model_module": "@jupyter-widgets/base",
          "model_name": "LayoutModel",
          "model_module_version": "1.2.0",
          "state": {
            "_model_module": "@jupyter-widgets/base",
            "_model_module_version": "1.2.0",
            "_model_name": "LayoutModel",
            "_view_count": null,
            "_view_module": "@jupyter-widgets/base",
            "_view_module_version": "1.2.0",
            "_view_name": "LayoutView",
            "align_content": null,
            "align_items": null,
            "align_self": null,
            "border": null,
            "bottom": null,
            "display": null,
            "flex": null,
            "flex_flow": null,
            "grid_area": null,
            "grid_auto_columns": null,
            "grid_auto_flow": null,
            "grid_auto_rows": null,
            "grid_column": null,
            "grid_gap": null,
            "grid_row": null,
            "grid_template_areas": null,
            "grid_template_columns": null,
            "grid_template_rows": null,
            "height": null,
            "justify_content": null,
            "justify_items": null,
            "left": null,
            "margin": null,
            "max_height": null,
            "max_width": null,
            "min_height": null,
            "min_width": null,
            "object_fit": null,
            "object_position": null,
            "order": null,
            "overflow": null,
            "overflow_x": null,
            "overflow_y": null,
            "padding": null,
            "right": null,
            "top": null,
            "visibility": null,
            "width": null
          }
        },
        "adcc620011fd44d0ab8fcc0f17370829": {
          "model_module": "@jupyter-widgets/controls",
          "model_name": "DescriptionStyleModel",
          "model_module_version": "1.5.0",
          "state": {
            "_model_module": "@jupyter-widgets/controls",
            "_model_module_version": "1.5.0",
            "_model_name": "DescriptionStyleModel",
            "_view_count": null,
            "_view_module": "@jupyter-widgets/base",
            "_view_module_version": "1.2.0",
            "_view_name": "StyleView",
            "description_width": ""
          }
        },
        "37ed5d57cc97414fb140882e4df56849": {
          "model_module": "@jupyter-widgets/controls",
          "model_name": "HBoxModel",
          "model_module_version": "1.5.0",
          "state": {
            "_dom_classes": [],
            "_model_module": "@jupyter-widgets/controls",
            "_model_module_version": "1.5.0",
            "_model_name": "HBoxModel",
            "_view_count": null,
            "_view_module": "@jupyter-widgets/controls",
            "_view_module_version": "1.5.0",
            "_view_name": "HBoxView",
            "box_style": "",
            "children": [
              "IPY_MODEL_9c80249352054d9bbae684ad2083ba1e",
              "IPY_MODEL_70a2ee60894045a8a2165fa83cc25589",
              "IPY_MODEL_dacf5c1562f54cca9c0e71fda12d3aa8"
            ],
            "layout": "IPY_MODEL_d8950ae6600949ce88cab1c4f7169c6e"
          }
        },
        "9c80249352054d9bbae684ad2083ba1e": {
          "model_module": "@jupyter-widgets/controls",
          "model_name": "HTMLModel",
          "model_module_version": "1.5.0",
          "state": {
            "_dom_classes": [],
            "_model_module": "@jupyter-widgets/controls",
            "_model_module_version": "1.5.0",
            "_model_name": "HTMLModel",
            "_view_count": null,
            "_view_module": "@jupyter-widgets/controls",
            "_view_module_version": "1.5.0",
            "_view_name": "HTMLView",
            "description": "",
            "description_tooltip": null,
            "layout": "IPY_MODEL_83e238616ead43069f6bed2a3c58b0ec",
            "placeholder": "​",
            "style": "IPY_MODEL_b70b5b521b284ee8a6dd397a49187d08",
            "value": "merges.txt: 100%"
          }
        },
        "70a2ee60894045a8a2165fa83cc25589": {
          "model_module": "@jupyter-widgets/controls",
          "model_name": "FloatProgressModel",
          "model_module_version": "1.5.0",
          "state": {
            "_dom_classes": [],
            "_model_module": "@jupyter-widgets/controls",
            "_model_module_version": "1.5.0",
            "_model_name": "FloatProgressModel",
            "_view_count": null,
            "_view_module": "@jupyter-widgets/controls",
            "_view_module_version": "1.5.0",
            "_view_name": "ProgressView",
            "bar_style": "success",
            "description": "",
            "description_tooltip": null,
            "layout": "IPY_MODEL_ae1faaa271f84f7bae1efb7be8871bf1",
            "max": 456318,
            "min": 0,
            "orientation": "horizontal",
            "style": "IPY_MODEL_0ae07eab269040e2af8f8e4ba584c644",
            "value": 456318
          }
        },
        "dacf5c1562f54cca9c0e71fda12d3aa8": {
          "model_module": "@jupyter-widgets/controls",
          "model_name": "HTMLModel",
          "model_module_version": "1.5.0",
          "state": {
            "_dom_classes": [],
            "_model_module": "@jupyter-widgets/controls",
            "_model_module_version": "1.5.0",
            "_model_name": "HTMLModel",
            "_view_count": null,
            "_view_module": "@jupyter-widgets/controls",
            "_view_module_version": "1.5.0",
            "_view_name": "HTMLView",
            "description": "",
            "description_tooltip": null,
            "layout": "IPY_MODEL_63e10ef04dfc42ec81e54dd7f25fbf2f",
            "placeholder": "​",
            "style": "IPY_MODEL_f7885a253a9c4e2c9904c9a38ba7d526",
            "value": " 456k/456k [00:00&lt;00:00, 19.9MB/s]"
          }
        },
        "d8950ae6600949ce88cab1c4f7169c6e": {
          "model_module": "@jupyter-widgets/base",
          "model_name": "LayoutModel",
          "model_module_version": "1.2.0",
          "state": {
            "_model_module": "@jupyter-widgets/base",
            "_model_module_version": "1.2.0",
            "_model_name": "LayoutModel",
            "_view_count": null,
            "_view_module": "@jupyter-widgets/base",
            "_view_module_version": "1.2.0",
            "_view_name": "LayoutView",
            "align_content": null,
            "align_items": null,
            "align_self": null,
            "border": null,
            "bottom": null,
            "display": null,
            "flex": null,
            "flex_flow": null,
            "grid_area": null,
            "grid_auto_columns": null,
            "grid_auto_flow": null,
            "grid_auto_rows": null,
            "grid_column": null,
            "grid_gap": null,
            "grid_row": null,
            "grid_template_areas": null,
            "grid_template_columns": null,
            "grid_template_rows": null,
            "height": null,
            "justify_content": null,
            "justify_items": null,
            "left": null,
            "margin": null,
            "max_height": null,
            "max_width": null,
            "min_height": null,
            "min_width": null,
            "object_fit": null,
            "object_position": null,
            "order": null,
            "overflow": null,
            "overflow_x": null,
            "overflow_y": null,
            "padding": null,
            "right": null,
            "top": null,
            "visibility": null,
            "width": null
          }
        },
        "83e238616ead43069f6bed2a3c58b0ec": {
          "model_module": "@jupyter-widgets/base",
          "model_name": "LayoutModel",
          "model_module_version": "1.2.0",
          "state": {
            "_model_module": "@jupyter-widgets/base",
            "_model_module_version": "1.2.0",
            "_model_name": "LayoutModel",
            "_view_count": null,
            "_view_module": "@jupyter-widgets/base",
            "_view_module_version": "1.2.0",
            "_view_name": "LayoutView",
            "align_content": null,
            "align_items": null,
            "align_self": null,
            "border": null,
            "bottom": null,
            "display": null,
            "flex": null,
            "flex_flow": null,
            "grid_area": null,
            "grid_auto_columns": null,
            "grid_auto_flow": null,
            "grid_auto_rows": null,
            "grid_column": null,
            "grid_gap": null,
            "grid_row": null,
            "grid_template_areas": null,
            "grid_template_columns": null,
            "grid_template_rows": null,
            "height": null,
            "justify_content": null,
            "justify_items": null,
            "left": null,
            "margin": null,
            "max_height": null,
            "max_width": null,
            "min_height": null,
            "min_width": null,
            "object_fit": null,
            "object_position": null,
            "order": null,
            "overflow": null,
            "overflow_x": null,
            "overflow_y": null,
            "padding": null,
            "right": null,
            "top": null,
            "visibility": null,
            "width": null
          }
        },
        "b70b5b521b284ee8a6dd397a49187d08": {
          "model_module": "@jupyter-widgets/controls",
          "model_name": "DescriptionStyleModel",
          "model_module_version": "1.5.0",
          "state": {
            "_model_module": "@jupyter-widgets/controls",
            "_model_module_version": "1.5.0",
            "_model_name": "DescriptionStyleModel",
            "_view_count": null,
            "_view_module": "@jupyter-widgets/base",
            "_view_module_version": "1.2.0",
            "_view_name": "StyleView",
            "description_width": ""
          }
        },
        "ae1faaa271f84f7bae1efb7be8871bf1": {
          "model_module": "@jupyter-widgets/base",
          "model_name": "LayoutModel",
          "model_module_version": "1.2.0",
          "state": {
            "_model_module": "@jupyter-widgets/base",
            "_model_module_version": "1.2.0",
            "_model_name": "LayoutModel",
            "_view_count": null,
            "_view_module": "@jupyter-widgets/base",
            "_view_module_version": "1.2.0",
            "_view_name": "LayoutView",
            "align_content": null,
            "align_items": null,
            "align_self": null,
            "border": null,
            "bottom": null,
            "display": null,
            "flex": null,
            "flex_flow": null,
            "grid_area": null,
            "grid_auto_columns": null,
            "grid_auto_flow": null,
            "grid_auto_rows": null,
            "grid_column": null,
            "grid_gap": null,
            "grid_row": null,
            "grid_template_areas": null,
            "grid_template_columns": null,
            "grid_template_rows": null,
            "height": null,
            "justify_content": null,
            "justify_items": null,
            "left": null,
            "margin": null,
            "max_height": null,
            "max_width": null,
            "min_height": null,
            "min_width": null,
            "object_fit": null,
            "object_position": null,
            "order": null,
            "overflow": null,
            "overflow_x": null,
            "overflow_y": null,
            "padding": null,
            "right": null,
            "top": null,
            "visibility": null,
            "width": null
          }
        },
        "0ae07eab269040e2af8f8e4ba584c644": {
          "model_module": "@jupyter-widgets/controls",
          "model_name": "ProgressStyleModel",
          "model_module_version": "1.5.0",
          "state": {
            "_model_module": "@jupyter-widgets/controls",
            "_model_module_version": "1.5.0",
            "_model_name": "ProgressStyleModel",
            "_view_count": null,
            "_view_module": "@jupyter-widgets/base",
            "_view_module_version": "1.2.0",
            "_view_name": "StyleView",
            "bar_color": null,
            "description_width": ""
          }
        },
        "63e10ef04dfc42ec81e54dd7f25fbf2f": {
          "model_module": "@jupyter-widgets/base",
          "model_name": "LayoutModel",
          "model_module_version": "1.2.0",
          "state": {
            "_model_module": "@jupyter-widgets/base",
            "_model_module_version": "1.2.0",
            "_model_name": "LayoutModel",
            "_view_count": null,
            "_view_module": "@jupyter-widgets/base",
            "_view_module_version": "1.2.0",
            "_view_name": "LayoutView",
            "align_content": null,
            "align_items": null,
            "align_self": null,
            "border": null,
            "bottom": null,
            "display": null,
            "flex": null,
            "flex_flow": null,
            "grid_area": null,
            "grid_auto_columns": null,
            "grid_auto_flow": null,
            "grid_auto_rows": null,
            "grid_column": null,
            "grid_gap": null,
            "grid_row": null,
            "grid_template_areas": null,
            "grid_template_columns": null,
            "grid_template_rows": null,
            "height": null,
            "justify_content": null,
            "justify_items": null,
            "left": null,
            "margin": null,
            "max_height": null,
            "max_width": null,
            "min_height": null,
            "min_width": null,
            "object_fit": null,
            "object_position": null,
            "order": null,
            "overflow": null,
            "overflow_x": null,
            "overflow_y": null,
            "padding": null,
            "right": null,
            "top": null,
            "visibility": null,
            "width": null
          }
        },
        "f7885a253a9c4e2c9904c9a38ba7d526": {
          "model_module": "@jupyter-widgets/controls",
          "model_name": "DescriptionStyleModel",
          "model_module_version": "1.5.0",
          "state": {
            "_model_module": "@jupyter-widgets/controls",
            "_model_module_version": "1.5.0",
            "_model_name": "DescriptionStyleModel",
            "_view_count": null,
            "_view_module": "@jupyter-widgets/base",
            "_view_module_version": "1.2.0",
            "_view_name": "StyleView",
            "description_width": ""
          }
        },
        "bd04e493fff54662a310ad2b16275d6e": {
          "model_module": "@jupyter-widgets/controls",
          "model_name": "HBoxModel",
          "model_module_version": "1.5.0",
          "state": {
            "_dom_classes": [],
            "_model_module": "@jupyter-widgets/controls",
            "_model_module_version": "1.5.0",
            "_model_name": "HBoxModel",
            "_view_count": null,
            "_view_module": "@jupyter-widgets/controls",
            "_view_module_version": "1.5.0",
            "_view_name": "HBoxView",
            "box_style": "",
            "children": [
              "IPY_MODEL_dafb2248583149f4ae71d6ae763e1cbd",
              "IPY_MODEL_c2966daeb8ce4cd28a1b78f1c733d611",
              "IPY_MODEL_c99c6a1536ab495bbf25b114af365b97"
            ],
            "layout": "IPY_MODEL_276809789cb546bfb4c342bbb9053ba4"
          }
        },
        "dafb2248583149f4ae71d6ae763e1cbd": {
          "model_module": "@jupyter-widgets/controls",
          "model_name": "HTMLModel",
          "model_module_version": "1.5.0",
          "state": {
            "_dom_classes": [],
            "_model_module": "@jupyter-widgets/controls",
            "_model_module_version": "1.5.0",
            "_model_name": "HTMLModel",
            "_view_count": null,
            "_view_module": "@jupyter-widgets/controls",
            "_view_module_version": "1.5.0",
            "_view_name": "HTMLView",
            "description": "",
            "description_tooltip": null,
            "layout": "IPY_MODEL_67e7f7f34be0462790f446dfa263dd1c",
            "placeholder": "​",
            "style": "IPY_MODEL_abe93dd0b4244e8ea538c6ee3e205b18",
            "value": "tokenizer.json: 100%"
          }
        },
        "c2966daeb8ce4cd28a1b78f1c733d611": {
          "model_module": "@jupyter-widgets/controls",
          "model_name": "FloatProgressModel",
          "model_module_version": "1.5.0",
          "state": {
            "_dom_classes": [],
            "_model_module": "@jupyter-widgets/controls",
            "_model_module_version": "1.5.0",
            "_model_name": "FloatProgressModel",
            "_view_count": null,
            "_view_module": "@jupyter-widgets/controls",
            "_view_module_version": "1.5.0",
            "_view_name": "ProgressView",
            "bar_style": "success",
            "description": "",
            "description_tooltip": null,
            "layout": "IPY_MODEL_577004f03ade4a1186a3520df394b786",
            "max": 1355863,
            "min": 0,
            "orientation": "horizontal",
            "style": "IPY_MODEL_0070fd08d18e4ea5a3637448d1fe1b08",
            "value": 1355863
          }
        },
        "c99c6a1536ab495bbf25b114af365b97": {
          "model_module": "@jupyter-widgets/controls",
          "model_name": "HTMLModel",
          "model_module_version": "1.5.0",
          "state": {
            "_dom_classes": [],
            "_model_module": "@jupyter-widgets/controls",
            "_model_module_version": "1.5.0",
            "_model_name": "HTMLModel",
            "_view_count": null,
            "_view_module": "@jupyter-widgets/controls",
            "_view_module_version": "1.5.0",
            "_view_name": "HTMLView",
            "description": "",
            "description_tooltip": null,
            "layout": "IPY_MODEL_230a87306840459ebd39264d5dc1f1b9",
            "placeholder": "​",
            "style": "IPY_MODEL_488d8ec4e82f4bfabfd49344333c8693",
            "value": " 1.36M/1.36M [00:00&lt;00:00, 23.0MB/s]"
          }
        },
        "276809789cb546bfb4c342bbb9053ba4": {
          "model_module": "@jupyter-widgets/base",
          "model_name": "LayoutModel",
          "model_module_version": "1.2.0",
          "state": {
            "_model_module": "@jupyter-widgets/base",
            "_model_module_version": "1.2.0",
            "_model_name": "LayoutModel",
            "_view_count": null,
            "_view_module": "@jupyter-widgets/base",
            "_view_module_version": "1.2.0",
            "_view_name": "LayoutView",
            "align_content": null,
            "align_items": null,
            "align_self": null,
            "border": null,
            "bottom": null,
            "display": null,
            "flex": null,
            "flex_flow": null,
            "grid_area": null,
            "grid_auto_columns": null,
            "grid_auto_flow": null,
            "grid_auto_rows": null,
            "grid_column": null,
            "grid_gap": null,
            "grid_row": null,
            "grid_template_areas": null,
            "grid_template_columns": null,
            "grid_template_rows": null,
            "height": null,
            "justify_content": null,
            "justify_items": null,
            "left": null,
            "margin": null,
            "max_height": null,
            "max_width": null,
            "min_height": null,
            "min_width": null,
            "object_fit": null,
            "object_position": null,
            "order": null,
            "overflow": null,
            "overflow_x": null,
            "overflow_y": null,
            "padding": null,
            "right": null,
            "top": null,
            "visibility": null,
            "width": null
          }
        },
        "67e7f7f34be0462790f446dfa263dd1c": {
          "model_module": "@jupyter-widgets/base",
          "model_name": "LayoutModel",
          "model_module_version": "1.2.0",
          "state": {
            "_model_module": "@jupyter-widgets/base",
            "_model_module_version": "1.2.0",
            "_model_name": "LayoutModel",
            "_view_count": null,
            "_view_module": "@jupyter-widgets/base",
            "_view_module_version": "1.2.0",
            "_view_name": "LayoutView",
            "align_content": null,
            "align_items": null,
            "align_self": null,
            "border": null,
            "bottom": null,
            "display": null,
            "flex": null,
            "flex_flow": null,
            "grid_area": null,
            "grid_auto_columns": null,
            "grid_auto_flow": null,
            "grid_auto_rows": null,
            "grid_column": null,
            "grid_gap": null,
            "grid_row": null,
            "grid_template_areas": null,
            "grid_template_columns": null,
            "grid_template_rows": null,
            "height": null,
            "justify_content": null,
            "justify_items": null,
            "left": null,
            "margin": null,
            "max_height": null,
            "max_width": null,
            "min_height": null,
            "min_width": null,
            "object_fit": null,
            "object_position": null,
            "order": null,
            "overflow": null,
            "overflow_x": null,
            "overflow_y": null,
            "padding": null,
            "right": null,
            "top": null,
            "visibility": null,
            "width": null
          }
        },
        "abe93dd0b4244e8ea538c6ee3e205b18": {
          "model_module": "@jupyter-widgets/controls",
          "model_name": "DescriptionStyleModel",
          "model_module_version": "1.5.0",
          "state": {
            "_model_module": "@jupyter-widgets/controls",
            "_model_module_version": "1.5.0",
            "_model_name": "DescriptionStyleModel",
            "_view_count": null,
            "_view_module": "@jupyter-widgets/base",
            "_view_module_version": "1.2.0",
            "_view_name": "StyleView",
            "description_width": ""
          }
        },
        "577004f03ade4a1186a3520df394b786": {
          "model_module": "@jupyter-widgets/base",
          "model_name": "LayoutModel",
          "model_module_version": "1.2.0",
          "state": {
            "_model_module": "@jupyter-widgets/base",
            "_model_module_version": "1.2.0",
            "_model_name": "LayoutModel",
            "_view_count": null,
            "_view_module": "@jupyter-widgets/base",
            "_view_module_version": "1.2.0",
            "_view_name": "LayoutView",
            "align_content": null,
            "align_items": null,
            "align_self": null,
            "border": null,
            "bottom": null,
            "display": null,
            "flex": null,
            "flex_flow": null,
            "grid_area": null,
            "grid_auto_columns": null,
            "grid_auto_flow": null,
            "grid_auto_rows": null,
            "grid_column": null,
            "grid_gap": null,
            "grid_row": null,
            "grid_template_areas": null,
            "grid_template_columns": null,
            "grid_template_rows": null,
            "height": null,
            "justify_content": null,
            "justify_items": null,
            "left": null,
            "margin": null,
            "max_height": null,
            "max_width": null,
            "min_height": null,
            "min_width": null,
            "object_fit": null,
            "object_position": null,
            "order": null,
            "overflow": null,
            "overflow_x": null,
            "overflow_y": null,
            "padding": null,
            "right": null,
            "top": null,
            "visibility": null,
            "width": null
          }
        },
        "0070fd08d18e4ea5a3637448d1fe1b08": {
          "model_module": "@jupyter-widgets/controls",
          "model_name": "ProgressStyleModel",
          "model_module_version": "1.5.0",
          "state": {
            "_model_module": "@jupyter-widgets/controls",
            "_model_module_version": "1.5.0",
            "_model_name": "ProgressStyleModel",
            "_view_count": null,
            "_view_module": "@jupyter-widgets/base",
            "_view_module_version": "1.2.0",
            "_view_name": "StyleView",
            "bar_color": null,
            "description_width": ""
          }
        },
        "230a87306840459ebd39264d5dc1f1b9": {
          "model_module": "@jupyter-widgets/base",
          "model_name": "LayoutModel",
          "model_module_version": "1.2.0",
          "state": {
            "_model_module": "@jupyter-widgets/base",
            "_model_module_version": "1.2.0",
            "_model_name": "LayoutModel",
            "_view_count": null,
            "_view_module": "@jupyter-widgets/base",
            "_view_module_version": "1.2.0",
            "_view_name": "LayoutView",
            "align_content": null,
            "align_items": null,
            "align_self": null,
            "border": null,
            "bottom": null,
            "display": null,
            "flex": null,
            "flex_flow": null,
            "grid_area": null,
            "grid_auto_columns": null,
            "grid_auto_flow": null,
            "grid_auto_rows": null,
            "grid_column": null,
            "grid_gap": null,
            "grid_row": null,
            "grid_template_areas": null,
            "grid_template_columns": null,
            "grid_template_rows": null,
            "height": null,
            "justify_content": null,
            "justify_items": null,
            "left": null,
            "margin": null,
            "max_height": null,
            "max_width": null,
            "min_height": null,
            "min_width": null,
            "object_fit": null,
            "object_position": null,
            "order": null,
            "overflow": null,
            "overflow_x": null,
            "overflow_y": null,
            "padding": null,
            "right": null,
            "top": null,
            "visibility": null,
            "width": null
          }
        },
        "488d8ec4e82f4bfabfd49344333c8693": {
          "model_module": "@jupyter-widgets/controls",
          "model_name": "DescriptionStyleModel",
          "model_module_version": "1.5.0",
          "state": {
            "_model_module": "@jupyter-widgets/controls",
            "_model_module_version": "1.5.0",
            "_model_name": "DescriptionStyleModel",
            "_view_count": null,
            "_view_module": "@jupyter-widgets/base",
            "_view_module_version": "1.2.0",
            "_view_name": "StyleView",
            "description_width": ""
          }
        }
      }
    }
  },
  "nbformat": 4,
  "nbformat_minor": 0
}
